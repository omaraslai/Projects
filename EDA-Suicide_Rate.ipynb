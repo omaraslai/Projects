{
 "cells": [
  {
   "cell_type": "code",
   "execution_count": 1,
   "id": "eda64f14",
   "metadata": {
    "_cell_guid": "b1076dfc-b9ad-4769-8c92-a6c4dae69d19",
    "_uuid": "8f2839f25d086af736a60e9eeb907d3b93b6e0e5",
    "execution": {
     "iopub.execute_input": "2024-03-21T22:53:12.776137Z",
     "iopub.status.busy": "2024-03-21T22:53:12.775473Z",
     "iopub.status.idle": "2024-03-21T22:53:15.075670Z",
     "shell.execute_reply": "2024-03-21T22:53:15.074468Z"
    },
    "papermill": {
     "duration": 2.310412,
     "end_time": "2024-03-21T22:53:15.077689",
     "exception": false,
     "start_time": "2024-03-21T22:53:12.767277",
     "status": "completed"
    },
    "tags": []
   },
   "outputs": [
    {
     "name": "stdout",
     "output_type": "stream",
     "text": [
      "/kaggle/input/global-suicide-rates-1990-to-2022/age_std_suicide_rates_1990-2022.csv\n",
      "/kaggle/input/global-suicide-rates-1990-to-2022/suicide_rates_1990-2022.csv\n"
     ]
    }
   ],
   "source": [
    "\n",
    "%matplotlib inline\n",
    "import numpy as np # linear algebra\n",
    "import pandas as pd # data processing, CSV file I/O (e.g. pd.read_csv)\n",
    "import matplotlib.pyplot as plt\n",
    "import geopandas as gpd\n",
    "import matplotlib.ticker as ticker\n",
    "import matplotlib.animation as animation\n",
    "from IPython.display import HTML\n",
    "import seaborn as sns\n",
    "import plotly.graph_objects as go\n",
    "import plotly.offline as pyo \n",
    "import plotly.io as pio\n",
    "\n",
    "import os\n",
    "for dirname, _, filenames in os.walk('/kaggle/input'):\n",
    "    for filename in filenames:\n",
    "        print(os.path.join(dirname, filename))\n",
    "\n",
    "sns.set_style('darkgrid')\n"
   ]
  },
  {
   "cell_type": "code",
   "execution_count": 2,
   "id": "380c202f",
   "metadata": {
    "execution": {
     "iopub.execute_input": "2024-03-21T22:53:15.092576Z",
     "iopub.status.busy": "2024-03-21T22:53:15.092075Z",
     "iopub.status.idle": "2024-03-21T22:53:15.096286Z",
     "shell.execute_reply": "2024-03-21T22:53:15.095427Z"
    },
    "papermill": {
     "duration": 0.013579,
     "end_time": "2024-03-21T22:53:15.098293",
     "exception": false,
     "start_time": "2024-03-21T22:53:15.084714",
     "status": "completed"
    },
    "tags": []
   },
   "outputs": [],
   "source": [
    "import warnings\n",
    "warnings.filterwarnings('ignore')"
   ]
  },
  {
   "cell_type": "code",
   "execution_count": 3,
   "id": "1e2926b4",
   "metadata": {
    "execution": {
     "iopub.execute_input": "2024-03-21T22:53:15.112193Z",
     "iopub.status.busy": "2024-03-21T22:53:15.111905Z",
     "iopub.status.idle": "2024-03-21T22:53:15.496766Z",
     "shell.execute_reply": "2024-03-21T22:53:15.496069Z"
    },
    "papermill": {
     "duration": 0.394101,
     "end_time": "2024-03-21T22:53:15.498861",
     "exception": false,
     "start_time": "2024-03-21T22:53:15.104760",
     "status": "completed"
    },
    "tags": []
   },
   "outputs": [],
   "source": [
    "df = pd.read_csv(\"/kaggle/input/global-suicide-rates-1990-to-2022/suicide_rates_1990-2022.csv\")"
   ]
  },
  {
   "cell_type": "markdown",
   "id": "b30d14f0",
   "metadata": {
    "papermill": {
     "duration": 0.005899,
     "end_time": "2024-03-21T22:53:15.511540",
     "exception": false,
     "start_time": "2024-03-21T22:53:15.505641",
     "status": "completed"
    },
    "tags": []
   },
   "source": [
    "Retrieve dimensions"
   ]
  },
  {
   "cell_type": "code",
   "execution_count": 4,
   "id": "3027ab23",
   "metadata": {
    "execution": {
     "iopub.execute_input": "2024-03-21T22:53:15.525055Z",
     "iopub.status.busy": "2024-03-21T22:53:15.524746Z",
     "iopub.status.idle": "2024-03-21T22:53:15.530714Z",
     "shell.execute_reply": "2024-03-21T22:53:15.529919Z"
    },
    "papermill": {
     "duration": 0.014664,
     "end_time": "2024-03-21T22:53:15.532371",
     "exception": false,
     "start_time": "2024-03-21T22:53:15.517707",
     "status": "completed"
    },
    "tags": []
   },
   "outputs": [
    {
     "data": {
      "text/plain": [
       "(118560, 18)"
      ]
     },
     "execution_count": 4,
     "metadata": {},
     "output_type": "execute_result"
    }
   ],
   "source": [
    "df.shape"
   ]
  },
  {
   "cell_type": "markdown",
   "id": "292fb379",
   "metadata": {
    "papermill": {
     "duration": 0.006075,
     "end_time": "2024-03-21T22:53:15.544908",
     "exception": false,
     "start_time": "2024-03-21T22:53:15.538833",
     "status": "completed"
    },
    "tags": []
   },
   "source": [
    "Retrieve column names and data types"
   ]
  },
  {
   "cell_type": "code",
   "execution_count": 5,
   "id": "51e6508f",
   "metadata": {
    "execution": {
     "iopub.execute_input": "2024-03-21T22:53:15.559662Z",
     "iopub.status.busy": "2024-03-21T22:53:15.558825Z",
     "iopub.status.idle": "2024-03-21T22:53:15.612276Z",
     "shell.execute_reply": "2024-03-21T22:53:15.611451Z"
    },
    "papermill": {
     "duration": 0.063098,
     "end_time": "2024-03-21T22:53:15.614603",
     "exception": false,
     "start_time": "2024-03-21T22:53:15.551505",
     "status": "completed"
    },
    "tags": []
   },
   "outputs": [
    {
     "name": "stdout",
     "output_type": "stream",
     "text": [
      "<class 'pandas.core.frame.DataFrame'>\n",
      "RangeIndex: 118560 entries, 0 to 118559\n",
      "Data columns (total 18 columns):\n",
      " #   Column                        Non-Null Count   Dtype  \n",
      "---  ------                        --------------   -----  \n",
      " 0   RegionCode                    118560 non-null  object \n",
      " 1   RegionName                    118560 non-null  object \n",
      " 2   CountryCode                   118560 non-null  object \n",
      " 3   CountryName                   118560 non-null  object \n",
      " 4   Year                          118560 non-null  int64  \n",
      " 5   Sex                           118560 non-null  object \n",
      " 6   AgeGroup                      118560 non-null  object \n",
      " 7   Generation                    118560 non-null  object \n",
      " 8   SuicideCount                  118096 non-null  float64\n",
      " 9   CauseSpecificDeathPercentage  114271 non-null  float64\n",
      " 10  DeathRatePer100K              107896 non-null  float64\n",
      " 11  Population                    112640 non-null  float64\n",
      " 12  GDP                           111320 non-null  float64\n",
      " 13  GDPPerCapita                  111320 non-null  float64\n",
      " 14  GrossNationalIncome           108600 non-null  float64\n",
      " 15  GNIPerCapita                  107800 non-null  float64\n",
      " 16  InflationRate                 104100 non-null  float64\n",
      " 17  EmploymentPopulationRatio     107440 non-null  float64\n",
      "dtypes: float64(10), int64(1), object(7)\n",
      "memory usage: 16.3+ MB\n"
     ]
    }
   ],
   "source": [
    "df.info()"
   ]
  },
  {
   "cell_type": "code",
   "execution_count": 6,
   "id": "5c94cd31",
   "metadata": {
    "execution": {
     "iopub.execute_input": "2024-03-21T22:53:15.630293Z",
     "iopub.status.busy": "2024-03-21T22:53:15.629669Z",
     "iopub.status.idle": "2024-03-21T22:53:15.650033Z",
     "shell.execute_reply": "2024-03-21T22:53:15.649253Z"
    },
    "papermill": {
     "duration": 0.029069,
     "end_time": "2024-03-21T22:53:15.651634",
     "exception": false,
     "start_time": "2024-03-21T22:53:15.622565",
     "status": "completed"
    },
    "tags": []
   },
   "outputs": [
    {
     "data": {
      "text/html": [
       "<div>\n",
       "<style scoped>\n",
       "    .dataframe tbody tr th:only-of-type {\n",
       "        vertical-align: middle;\n",
       "    }\n",
       "\n",
       "    .dataframe tbody tr th {\n",
       "        vertical-align: top;\n",
       "    }\n",
       "\n",
       "    .dataframe thead th {\n",
       "        text-align: right;\n",
       "    }\n",
       "</style>\n",
       "<table border=\"1\" class=\"dataframe\">\n",
       "  <thead>\n",
       "    <tr style=\"text-align: right;\">\n",
       "      <th></th>\n",
       "      <th>RegionCode</th>\n",
       "      <th>RegionName</th>\n",
       "      <th>CountryCode</th>\n",
       "      <th>CountryName</th>\n",
       "      <th>Year</th>\n",
       "      <th>Sex</th>\n",
       "      <th>AgeGroup</th>\n",
       "      <th>Generation</th>\n",
       "      <th>SuicideCount</th>\n",
       "      <th>CauseSpecificDeathPercentage</th>\n",
       "      <th>DeathRatePer100K</th>\n",
       "      <th>Population</th>\n",
       "      <th>GDP</th>\n",
       "      <th>GDPPerCapita</th>\n",
       "      <th>GrossNationalIncome</th>\n",
       "      <th>GNIPerCapita</th>\n",
       "      <th>InflationRate</th>\n",
       "      <th>EmploymentPopulationRatio</th>\n",
       "    </tr>\n",
       "  </thead>\n",
       "  <tbody>\n",
       "    <tr>\n",
       "      <th>0</th>\n",
       "      <td>EU</td>\n",
       "      <td>Europe</td>\n",
       "      <td>ALB</td>\n",
       "      <td>Albania</td>\n",
       "      <td>1992</td>\n",
       "      <td>Male</td>\n",
       "      <td>0-14 years</td>\n",
       "      <td>Generation Alpha</td>\n",
       "      <td>0.0</td>\n",
       "      <td>0.000000</td>\n",
       "      <td>0.000000</td>\n",
       "      <td>3247039.0</td>\n",
       "      <td>652174990.8</td>\n",
       "      <td>200.85222</td>\n",
       "      <td>906184212.3</td>\n",
       "      <td>1740.0</td>\n",
       "      <td>226.005421</td>\n",
       "      <td>45.315</td>\n",
       "    </tr>\n",
       "    <tr>\n",
       "      <th>1</th>\n",
       "      <td>EU</td>\n",
       "      <td>Europe</td>\n",
       "      <td>ALB</td>\n",
       "      <td>Albania</td>\n",
       "      <td>1992</td>\n",
       "      <td>Male</td>\n",
       "      <td>0-14 years</td>\n",
       "      <td>Generation Alpha</td>\n",
       "      <td>0.0</td>\n",
       "      <td>0.000000</td>\n",
       "      <td>0.000000</td>\n",
       "      <td>3247039.0</td>\n",
       "      <td>652174990.8</td>\n",
       "      <td>200.85222</td>\n",
       "      <td>906184212.3</td>\n",
       "      <td>1740.0</td>\n",
       "      <td>226.005421</td>\n",
       "      <td>45.315</td>\n",
       "    </tr>\n",
       "    <tr>\n",
       "      <th>2</th>\n",
       "      <td>EU</td>\n",
       "      <td>Europe</td>\n",
       "      <td>ALB</td>\n",
       "      <td>Albania</td>\n",
       "      <td>1992</td>\n",
       "      <td>Male</td>\n",
       "      <td>0-14 years</td>\n",
       "      <td>Generation Alpha</td>\n",
       "      <td>0.0</td>\n",
       "      <td>0.000000</td>\n",
       "      <td>0.000000</td>\n",
       "      <td>3247039.0</td>\n",
       "      <td>652174990.8</td>\n",
       "      <td>200.85222</td>\n",
       "      <td>906184212.3</td>\n",
       "      <td>1740.0</td>\n",
       "      <td>226.005421</td>\n",
       "      <td>45.315</td>\n",
       "    </tr>\n",
       "    <tr>\n",
       "      <th>3</th>\n",
       "      <td>EU</td>\n",
       "      <td>Europe</td>\n",
       "      <td>ALB</td>\n",
       "      <td>Albania</td>\n",
       "      <td>1992</td>\n",
       "      <td>Male</td>\n",
       "      <td>0-14 years</td>\n",
       "      <td>Generation Alpha</td>\n",
       "      <td>0.0</td>\n",
       "      <td>0.000000</td>\n",
       "      <td>0.000000</td>\n",
       "      <td>3247039.0</td>\n",
       "      <td>652174990.8</td>\n",
       "      <td>200.85222</td>\n",
       "      <td>906184212.3</td>\n",
       "      <td>1740.0</td>\n",
       "      <td>226.005421</td>\n",
       "      <td>45.315</td>\n",
       "    </tr>\n",
       "    <tr>\n",
       "      <th>4</th>\n",
       "      <td>EU</td>\n",
       "      <td>Europe</td>\n",
       "      <td>ALB</td>\n",
       "      <td>Albania</td>\n",
       "      <td>1992</td>\n",
       "      <td>Male</td>\n",
       "      <td>15-24 years</td>\n",
       "      <td>Generation Z</td>\n",
       "      <td>5.0</td>\n",
       "      <td>3.401361</td>\n",
       "      <td>3.531073</td>\n",
       "      <td>3247039.0</td>\n",
       "      <td>652174990.8</td>\n",
       "      <td>200.85222</td>\n",
       "      <td>906184212.3</td>\n",
       "      <td>1740.0</td>\n",
       "      <td>226.005421</td>\n",
       "      <td>45.315</td>\n",
       "    </tr>\n",
       "  </tbody>\n",
       "</table>\n",
       "</div>"
      ],
      "text/plain": [
       "  RegionCode RegionName CountryCode CountryName  Year   Sex     AgeGroup  \\\n",
       "0         EU     Europe         ALB     Albania  1992  Male   0-14 years   \n",
       "1         EU     Europe         ALB     Albania  1992  Male   0-14 years   \n",
       "2         EU     Europe         ALB     Albania  1992  Male   0-14 years   \n",
       "3         EU     Europe         ALB     Albania  1992  Male   0-14 years   \n",
       "4         EU     Europe         ALB     Albania  1992  Male  15-24 years   \n",
       "\n",
       "         Generation  SuicideCount  CauseSpecificDeathPercentage  \\\n",
       "0  Generation Alpha           0.0                      0.000000   \n",
       "1  Generation Alpha           0.0                      0.000000   \n",
       "2  Generation Alpha           0.0                      0.000000   \n",
       "3  Generation Alpha           0.0                      0.000000   \n",
       "4      Generation Z           5.0                      3.401361   \n",
       "\n",
       "   DeathRatePer100K  Population          GDP  GDPPerCapita  \\\n",
       "0          0.000000   3247039.0  652174990.8     200.85222   \n",
       "1          0.000000   3247039.0  652174990.8     200.85222   \n",
       "2          0.000000   3247039.0  652174990.8     200.85222   \n",
       "3          0.000000   3247039.0  652174990.8     200.85222   \n",
       "4          3.531073   3247039.0  652174990.8     200.85222   \n",
       "\n",
       "   GrossNationalIncome  GNIPerCapita  InflationRate  EmploymentPopulationRatio  \n",
       "0          906184212.3        1740.0     226.005421                     45.315  \n",
       "1          906184212.3        1740.0     226.005421                     45.315  \n",
       "2          906184212.3        1740.0     226.005421                     45.315  \n",
       "3          906184212.3        1740.0     226.005421                     45.315  \n",
       "4          906184212.3        1740.0     226.005421                     45.315  "
      ]
     },
     "execution_count": 6,
     "metadata": {},
     "output_type": "execute_result"
    }
   ],
   "source": [
    "df.head()"
   ]
  },
  {
   "cell_type": "code",
   "execution_count": 7,
   "id": "009da593",
   "metadata": {
    "execution": {
     "iopub.execute_input": "2024-03-21T22:53:15.666519Z",
     "iopub.status.busy": "2024-03-21T22:53:15.666243Z",
     "iopub.status.idle": "2024-03-21T22:53:15.683408Z",
     "shell.execute_reply": "2024-03-21T22:53:15.682294Z"
    },
    "papermill": {
     "duration": 0.026777,
     "end_time": "2024-03-21T22:53:15.685234",
     "exception": false,
     "start_time": "2024-03-21T22:53:15.658457",
     "status": "completed"
    },
    "tags": []
   },
   "outputs": [
    {
     "data": {
      "text/html": [
       "<div>\n",
       "<style scoped>\n",
       "    .dataframe tbody tr th:only-of-type {\n",
       "        vertical-align: middle;\n",
       "    }\n",
       "\n",
       "    .dataframe tbody tr th {\n",
       "        vertical-align: top;\n",
       "    }\n",
       "\n",
       "    .dataframe thead th {\n",
       "        text-align: right;\n",
       "    }\n",
       "</style>\n",
       "<table border=\"1\" class=\"dataframe\">\n",
       "  <thead>\n",
       "    <tr style=\"text-align: right;\">\n",
       "      <th></th>\n",
       "      <th>RegionCode</th>\n",
       "      <th>RegionName</th>\n",
       "      <th>CountryCode</th>\n",
       "      <th>CountryName</th>\n",
       "      <th>Year</th>\n",
       "      <th>Sex</th>\n",
       "      <th>AgeGroup</th>\n",
       "      <th>Generation</th>\n",
       "      <th>SuicideCount</th>\n",
       "      <th>CauseSpecificDeathPercentage</th>\n",
       "      <th>DeathRatePer100K</th>\n",
       "      <th>Population</th>\n",
       "      <th>GDP</th>\n",
       "      <th>GDPPerCapita</th>\n",
       "      <th>GrossNationalIncome</th>\n",
       "      <th>GNIPerCapita</th>\n",
       "      <th>InflationRate</th>\n",
       "      <th>EmploymentPopulationRatio</th>\n",
       "    </tr>\n",
       "  </thead>\n",
       "  <tbody>\n",
       "    <tr>\n",
       "      <th>118555</th>\n",
       "      <td>NAC</td>\n",
       "      <td>North America and the Caribbean</td>\n",
       "      <td>USA</td>\n",
       "      <td>United States of America</td>\n",
       "      <td>2021</td>\n",
       "      <td>Female</td>\n",
       "      <td>55-74 years</td>\n",
       "      <td>Baby Boomers</td>\n",
       "      <td>420.0</td>\n",
       "      <td>0.246321</td>\n",
       "      <td>5.286824</td>\n",
       "      <td>332031554.0</td>\n",
       "      <td>2.331510e+13</td>\n",
       "      <td>70219.47245</td>\n",
       "      <td>2.370530e+13</td>\n",
       "      <td>71130.0</td>\n",
       "      <td>4.697859</td>\n",
       "      <td>57.946</td>\n",
       "    </tr>\n",
       "    <tr>\n",
       "      <th>118556</th>\n",
       "      <td>NAC</td>\n",
       "      <td>North America and the Caribbean</td>\n",
       "      <td>USA</td>\n",
       "      <td>United States of America</td>\n",
       "      <td>2021</td>\n",
       "      <td>Female</td>\n",
       "      <td>75+ years</td>\n",
       "      <td>Silent Generation</td>\n",
       "      <td>276.0</td>\n",
       "      <td>0.146324</td>\n",
       "      <td>4.876199</td>\n",
       "      <td>332031554.0</td>\n",
       "      <td>2.331510e+13</td>\n",
       "      <td>70219.47245</td>\n",
       "      <td>2.370530e+13</td>\n",
       "      <td>71130.0</td>\n",
       "      <td>4.697859</td>\n",
       "      <td>57.946</td>\n",
       "    </tr>\n",
       "    <tr>\n",
       "      <th>118557</th>\n",
       "      <td>NAC</td>\n",
       "      <td>North America and the Caribbean</td>\n",
       "      <td>USA</td>\n",
       "      <td>United States of America</td>\n",
       "      <td>2021</td>\n",
       "      <td>Female</td>\n",
       "      <td>75+ years</td>\n",
       "      <td>Silent Generation</td>\n",
       "      <td>158.0</td>\n",
       "      <td>0.075728</td>\n",
       "      <td>4.203972</td>\n",
       "      <td>332031554.0</td>\n",
       "      <td>2.331510e+13</td>\n",
       "      <td>70219.47245</td>\n",
       "      <td>2.370530e+13</td>\n",
       "      <td>71130.0</td>\n",
       "      <td>4.697859</td>\n",
       "      <td>57.946</td>\n",
       "    </tr>\n",
       "    <tr>\n",
       "      <th>118558</th>\n",
       "      <td>NAC</td>\n",
       "      <td>North America and the Caribbean</td>\n",
       "      <td>USA</td>\n",
       "      <td>United States of America</td>\n",
       "      <td>2021</td>\n",
       "      <td>Female</td>\n",
       "      <td>75+ years</td>\n",
       "      <td>Silent Generation</td>\n",
       "      <td>127.0</td>\n",
       "      <td>0.022409</td>\n",
       "      <td>2.931077</td>\n",
       "      <td>332031554.0</td>\n",
       "      <td>2.331510e+13</td>\n",
       "      <td>70219.47245</td>\n",
       "      <td>2.370530e+13</td>\n",
       "      <td>71130.0</td>\n",
       "      <td>4.697859</td>\n",
       "      <td>57.946</td>\n",
       "    </tr>\n",
       "    <tr>\n",
       "      <th>118559</th>\n",
       "      <td>NAC</td>\n",
       "      <td>North America and the Caribbean</td>\n",
       "      <td>USA</td>\n",
       "      <td>United States of America</td>\n",
       "      <td>2021</td>\n",
       "      <td>Female</td>\n",
       "      <td>Unknown</td>\n",
       "      <td>Unknown</td>\n",
       "      <td>0.0</td>\n",
       "      <td>0.000000</td>\n",
       "      <td>NaN</td>\n",
       "      <td>332031554.0</td>\n",
       "      <td>2.331510e+13</td>\n",
       "      <td>70219.47245</td>\n",
       "      <td>2.370530e+13</td>\n",
       "      <td>71130.0</td>\n",
       "      <td>4.697859</td>\n",
       "      <td>57.946</td>\n",
       "    </tr>\n",
       "  </tbody>\n",
       "</table>\n",
       "</div>"
      ],
      "text/plain": [
       "       RegionCode                       RegionName CountryCode  \\\n",
       "118555        NAC  North America and the Caribbean         USA   \n",
       "118556        NAC  North America and the Caribbean         USA   \n",
       "118557        NAC  North America and the Caribbean         USA   \n",
       "118558        NAC  North America and the Caribbean         USA   \n",
       "118559        NAC  North America and the Caribbean         USA   \n",
       "\n",
       "                     CountryName  Year     Sex     AgeGroup  \\\n",
       "118555  United States of America  2021  Female  55-74 years   \n",
       "118556  United States of America  2021  Female    75+ years   \n",
       "118557  United States of America  2021  Female    75+ years   \n",
       "118558  United States of America  2021  Female    75+ years   \n",
       "118559  United States of America  2021  Female      Unknown   \n",
       "\n",
       "               Generation  SuicideCount  CauseSpecificDeathPercentage  \\\n",
       "118555       Baby Boomers         420.0                      0.246321   \n",
       "118556  Silent Generation         276.0                      0.146324   \n",
       "118557  Silent Generation         158.0                      0.075728   \n",
       "118558  Silent Generation         127.0                      0.022409   \n",
       "118559            Unknown           0.0                      0.000000   \n",
       "\n",
       "        DeathRatePer100K   Population           GDP  GDPPerCapita  \\\n",
       "118555          5.286824  332031554.0  2.331510e+13   70219.47245   \n",
       "118556          4.876199  332031554.0  2.331510e+13   70219.47245   \n",
       "118557          4.203972  332031554.0  2.331510e+13   70219.47245   \n",
       "118558          2.931077  332031554.0  2.331510e+13   70219.47245   \n",
       "118559               NaN  332031554.0  2.331510e+13   70219.47245   \n",
       "\n",
       "        GrossNationalIncome  GNIPerCapita  InflationRate  \\\n",
       "118555         2.370530e+13       71130.0       4.697859   \n",
       "118556         2.370530e+13       71130.0       4.697859   \n",
       "118557         2.370530e+13       71130.0       4.697859   \n",
       "118558         2.370530e+13       71130.0       4.697859   \n",
       "118559         2.370530e+13       71130.0       4.697859   \n",
       "\n",
       "        EmploymentPopulationRatio  \n",
       "118555                     57.946  \n",
       "118556                     57.946  \n",
       "118557                     57.946  \n",
       "118558                     57.946  \n",
       "118559                     57.946  "
      ]
     },
     "execution_count": 7,
     "metadata": {},
     "output_type": "execute_result"
    }
   ],
   "source": [
    "df.tail()"
   ]
  },
  {
   "cell_type": "markdown",
   "id": "63263ba6",
   "metadata": {
    "papermill": {
     "duration": 0.006604,
     "end_time": "2024-03-21T22:53:15.698959",
     "exception": false,
     "start_time": "2024-03-21T22:53:15.692355",
     "status": "completed"
    },
    "tags": []
   },
   "source": [
    "Descriptive statistics"
   ]
  },
  {
   "cell_type": "code",
   "execution_count": 8,
   "id": "d0b724e9",
   "metadata": {
    "execution": {
     "iopub.execute_input": "2024-03-21T22:53:15.713757Z",
     "iopub.status.busy": "2024-03-21T22:53:15.713464Z",
     "iopub.status.idle": "2024-03-21T22:53:15.773462Z",
     "shell.execute_reply": "2024-03-21T22:53:15.772641Z"
    },
    "papermill": {
     "duration": 0.069457,
     "end_time": "2024-03-21T22:53:15.775159",
     "exception": false,
     "start_time": "2024-03-21T22:53:15.705702",
     "status": "completed"
    },
    "tags": []
   },
   "outputs": [
    {
     "data": {
      "text/html": [
       "<div>\n",
       "<style scoped>\n",
       "    .dataframe tbody tr th:only-of-type {\n",
       "        vertical-align: middle;\n",
       "    }\n",
       "\n",
       "    .dataframe tbody tr th {\n",
       "        vertical-align: top;\n",
       "    }\n",
       "\n",
       "    .dataframe thead th {\n",
       "        text-align: right;\n",
       "    }\n",
       "</style>\n",
       "<table border=\"1\" class=\"dataframe\">\n",
       "  <thead>\n",
       "    <tr style=\"text-align: right;\">\n",
       "      <th></th>\n",
       "      <th>count</th>\n",
       "      <th>mean</th>\n",
       "      <th>std</th>\n",
       "      <th>min</th>\n",
       "      <th>25%</th>\n",
       "      <th>50%</th>\n",
       "      <th>75%</th>\n",
       "      <th>max</th>\n",
       "    </tr>\n",
       "  </thead>\n",
       "  <tbody>\n",
       "    <tr>\n",
       "      <th>Year</th>\n",
       "      <td>118560.0</td>\n",
       "      <td>2.005740e+03</td>\n",
       "      <td>8.745003e+00</td>\n",
       "      <td>1.990000e+03</td>\n",
       "      <td>1.999000e+03</td>\n",
       "      <td>2.006000e+03</td>\n",
       "      <td>2.013000e+03</td>\n",
       "      <td>2.022000e+03</td>\n",
       "    </tr>\n",
       "    <tr>\n",
       "      <th>SuicideCount</th>\n",
       "      <td>118096.0</td>\n",
       "      <td>6.363204e+01</td>\n",
       "      <td>2.540954e+02</td>\n",
       "      <td>0.000000e+00</td>\n",
       "      <td>0.000000e+00</td>\n",
       "      <td>4.000000e+00</td>\n",
       "      <td>3.200000e+01</td>\n",
       "      <td>6.787000e+03</td>\n",
       "    </tr>\n",
       "    <tr>\n",
       "      <th>CauseSpecificDeathPercentage</th>\n",
       "      <td>114271.0</td>\n",
       "      <td>3.873690e+00</td>\n",
       "      <td>7.317820e+00</td>\n",
       "      <td>0.000000e+00</td>\n",
       "      <td>0.000000e+00</td>\n",
       "      <td>5.861665e-01</td>\n",
       "      <td>4.355646e+00</td>\n",
       "      <td>1.000000e+02</td>\n",
       "    </tr>\n",
       "    <tr>\n",
       "      <th>DeathRatePer100K</th>\n",
       "      <td>107896.0</td>\n",
       "      <td>1.229979e+01</td>\n",
       "      <td>2.101617e+01</td>\n",
       "      <td>0.000000e+00</td>\n",
       "      <td>0.000000e+00</td>\n",
       "      <td>4.452366e+00</td>\n",
       "      <td>1.538462e+01</td>\n",
       "      <td>5.025126e+02</td>\n",
       "    </tr>\n",
       "    <tr>\n",
       "      <th>Population</th>\n",
       "      <td>112640.0</td>\n",
       "      <td>2.456184e+07</td>\n",
       "      <td>4.531156e+07</td>\n",
       "      <td>4.054200e+04</td>\n",
       "      <td>2.613805e+06</td>\n",
       "      <td>6.888434e+06</td>\n",
       "      <td>2.533364e+07</td>\n",
       "      <td>3.320316e+08</td>\n",
       "    </tr>\n",
       "    <tr>\n",
       "      <th>GDP</th>\n",
       "      <td>111320.0</td>\n",
       "      <td>4.883351e+11</td>\n",
       "      <td>1.653252e+12</td>\n",
       "      <td>2.197630e+08</td>\n",
       "      <td>1.162585e+10</td>\n",
       "      <td>6.268216e+10</td>\n",
       "      <td>3.013550e+11</td>\n",
       "      <td>2.331510e+13</td>\n",
       "    </tr>\n",
       "    <tr>\n",
       "      <th>GDPPerCapita</th>\n",
       "      <td>111320.0</td>\n",
       "      <td>1.742351e+04</td>\n",
       "      <td>1.933214e+04</td>\n",
       "      <td>6.023512e+01</td>\n",
       "      <td>3.941599e+03</td>\n",
       "      <td>9.708141e+03</td>\n",
       "      <td>2.519727e+04</td>\n",
       "      <td>1.337118e+05</td>\n",
       "    </tr>\n",
       "    <tr>\n",
       "      <th>GrossNationalIncome</th>\n",
       "      <td>108600.0</td>\n",
       "      <td>4.976795e+11</td>\n",
       "      <td>1.689591e+12</td>\n",
       "      <td>2.082832e+08</td>\n",
       "      <td>1.176795e+10</td>\n",
       "      <td>5.987715e+10</td>\n",
       "      <td>3.057210e+11</td>\n",
       "      <td>2.370530e+13</td>\n",
       "    </tr>\n",
       "    <tr>\n",
       "      <th>GNIPerCapita</th>\n",
       "      <td>107800.0</td>\n",
       "      <td>2.214722e+04</td>\n",
       "      <td>1.888640e+04</td>\n",
       "      <td>7.800000e+02</td>\n",
       "      <td>8.670000e+03</td>\n",
       "      <td>1.615000e+04</td>\n",
       "      <td>2.953000e+04</td>\n",
       "      <td>1.526300e+05</td>\n",
       "    </tr>\n",
       "    <tr>\n",
       "      <th>InflationRate</th>\n",
       "      <td>104100.0</td>\n",
       "      <td>2.028646e+01</td>\n",
       "      <td>1.630999e+02</td>\n",
       "      <td>-1.063010e+01</td>\n",
       "      <td>1.498961e+00</td>\n",
       "      <td>3.038888e+00</td>\n",
       "      <td>6.536199e+00</td>\n",
       "      <td>4.734914e+03</td>\n",
       "    </tr>\n",
       "    <tr>\n",
       "      <th>EmploymentPopulationRatio</th>\n",
       "      <td>107440.0</td>\n",
       "      <td>5.575081e+01</td>\n",
       "      <td>8.140994e+00</td>\n",
       "      <td>3.202600e+01</td>\n",
       "      <td>5.079100e+01</td>\n",
       "      <td>5.602100e+01</td>\n",
       "      <td>6.041525e+01</td>\n",
       "      <td>8.751800e+01</td>\n",
       "    </tr>\n",
       "  </tbody>\n",
       "</table>\n",
       "</div>"
      ],
      "text/plain": [
       "                                 count          mean           std  \\\n",
       "Year                          118560.0  2.005740e+03  8.745003e+00   \n",
       "SuicideCount                  118096.0  6.363204e+01  2.540954e+02   \n",
       "CauseSpecificDeathPercentage  114271.0  3.873690e+00  7.317820e+00   \n",
       "DeathRatePer100K              107896.0  1.229979e+01  2.101617e+01   \n",
       "Population                    112640.0  2.456184e+07  4.531156e+07   \n",
       "GDP                           111320.0  4.883351e+11  1.653252e+12   \n",
       "GDPPerCapita                  111320.0  1.742351e+04  1.933214e+04   \n",
       "GrossNationalIncome           108600.0  4.976795e+11  1.689591e+12   \n",
       "GNIPerCapita                  107800.0  2.214722e+04  1.888640e+04   \n",
       "InflationRate                 104100.0  2.028646e+01  1.630999e+02   \n",
       "EmploymentPopulationRatio     107440.0  5.575081e+01  8.140994e+00   \n",
       "\n",
       "                                       min           25%           50%  \\\n",
       "Year                          1.990000e+03  1.999000e+03  2.006000e+03   \n",
       "SuicideCount                  0.000000e+00  0.000000e+00  4.000000e+00   \n",
       "CauseSpecificDeathPercentage  0.000000e+00  0.000000e+00  5.861665e-01   \n",
       "DeathRatePer100K              0.000000e+00  0.000000e+00  4.452366e+00   \n",
       "Population                    4.054200e+04  2.613805e+06  6.888434e+06   \n",
       "GDP                           2.197630e+08  1.162585e+10  6.268216e+10   \n",
       "GDPPerCapita                  6.023512e+01  3.941599e+03  9.708141e+03   \n",
       "GrossNationalIncome           2.082832e+08  1.176795e+10  5.987715e+10   \n",
       "GNIPerCapita                  7.800000e+02  8.670000e+03  1.615000e+04   \n",
       "InflationRate                -1.063010e+01  1.498961e+00  3.038888e+00   \n",
       "EmploymentPopulationRatio     3.202600e+01  5.079100e+01  5.602100e+01   \n",
       "\n",
       "                                       75%           max  \n",
       "Year                          2.013000e+03  2.022000e+03  \n",
       "SuicideCount                  3.200000e+01  6.787000e+03  \n",
       "CauseSpecificDeathPercentage  4.355646e+00  1.000000e+02  \n",
       "DeathRatePer100K              1.538462e+01  5.025126e+02  \n",
       "Population                    2.533364e+07  3.320316e+08  \n",
       "GDP                           3.013550e+11  2.331510e+13  \n",
       "GDPPerCapita                  2.519727e+04  1.337118e+05  \n",
       "GrossNationalIncome           3.057210e+11  2.370530e+13  \n",
       "GNIPerCapita                  2.953000e+04  1.526300e+05  \n",
       "InflationRate                 6.536199e+00  4.734914e+03  \n",
       "EmploymentPopulationRatio     6.041525e+01  8.751800e+01  "
      ]
     },
     "execution_count": 8,
     "metadata": {},
     "output_type": "execute_result"
    }
   ],
   "source": [
    "df.describe().T"
   ]
  },
  {
   "cell_type": "markdown",
   "id": "003bf87e",
   "metadata": {
    "papermill": {
     "duration": 0.006829,
     "end_time": "2024-03-21T22:53:15.789262",
     "exception": false,
     "start_time": "2024-03-21T22:53:15.782433",
     "status": "completed"
    },
    "tags": []
   },
   "source": [
    "Let's try and understand the textual data in our dataframe"
   ]
  },
  {
   "cell_type": "code",
   "execution_count": 9,
   "id": "50cdea8f",
   "metadata": {
    "execution": {
     "iopub.execute_input": "2024-03-21T22:53:15.804640Z",
     "iopub.status.busy": "2024-03-21T22:53:15.804198Z",
     "iopub.status.idle": "2024-03-21T22:53:15.890383Z",
     "shell.execute_reply": "2024-03-21T22:53:15.889450Z"
    },
    "papermill": {
     "duration": 0.096819,
     "end_time": "2024-03-21T22:53:15.893063",
     "exception": false,
     "start_time": "2024-03-21T22:53:15.796244",
     "status": "completed"
    },
    "tags": []
   },
   "outputs": [
    {
     "data": {
      "text/html": [
       "<div>\n",
       "<style scoped>\n",
       "    .dataframe tbody tr th:only-of-type {\n",
       "        vertical-align: middle;\n",
       "    }\n",
       "\n",
       "    .dataframe tbody tr th {\n",
       "        vertical-align: top;\n",
       "    }\n",
       "\n",
       "    .dataframe thead th {\n",
       "        text-align: right;\n",
       "    }\n",
       "</style>\n",
       "<table border=\"1\" class=\"dataframe\">\n",
       "  <thead>\n",
       "    <tr style=\"text-align: right;\">\n",
       "      <th></th>\n",
       "      <th>count</th>\n",
       "      <th>unique</th>\n",
       "      <th>top</th>\n",
       "      <th>freq</th>\n",
       "    </tr>\n",
       "  </thead>\n",
       "  <tbody>\n",
       "    <tr>\n",
       "      <th>RegionCode</th>\n",
       "      <td>118560</td>\n",
       "      <td>6</td>\n",
       "      <td>EU</td>\n",
       "      <td>45140</td>\n",
       "    </tr>\n",
       "    <tr>\n",
       "      <th>RegionName</th>\n",
       "      <td>118560</td>\n",
       "      <td>6</td>\n",
       "      <td>Europe</td>\n",
       "      <td>45140</td>\n",
       "    </tr>\n",
       "    <tr>\n",
       "      <th>CountryCode</th>\n",
       "      <td>118560</td>\n",
       "      <td>117</td>\n",
       "      <td>ARG</td>\n",
       "      <td>1740</td>\n",
       "    </tr>\n",
       "    <tr>\n",
       "      <th>CountryName</th>\n",
       "      <td>118560</td>\n",
       "      <td>117</td>\n",
       "      <td>Argentina</td>\n",
       "      <td>1740</td>\n",
       "    </tr>\n",
       "    <tr>\n",
       "      <th>Sex</th>\n",
       "      <td>118560</td>\n",
       "      <td>3</td>\n",
       "      <td>Male</td>\n",
       "      <td>58320</td>\n",
       "    </tr>\n",
       "    <tr>\n",
       "      <th>AgeGroup</th>\n",
       "      <td>118560</td>\n",
       "      <td>7</td>\n",
       "      <td>0-14 years</td>\n",
       "      <td>23712</td>\n",
       "    </tr>\n",
       "    <tr>\n",
       "      <th>Generation</th>\n",
       "      <td>118560</td>\n",
       "      <td>7</td>\n",
       "      <td>Generation Alpha</td>\n",
       "      <td>23712</td>\n",
       "    </tr>\n",
       "  </tbody>\n",
       "</table>\n",
       "</div>"
      ],
      "text/plain": [
       "              count unique               top   freq\n",
       "RegionCode   118560      6                EU  45140\n",
       "RegionName   118560      6            Europe  45140\n",
       "CountryCode  118560    117               ARG   1740\n",
       "CountryName  118560    117         Argentina   1740\n",
       "Sex          118560      3              Male  58320\n",
       "AgeGroup     118560      7        0-14 years  23712\n",
       "Generation   118560      7  Generation Alpha  23712"
      ]
     },
     "execution_count": 9,
     "metadata": {},
     "output_type": "execute_result"
    }
   ],
   "source": [
    "df.describe(exclude=np.number).T"
   ]
  },
  {
   "cell_type": "markdown",
   "id": "d4356778",
   "metadata": {
    "papermill": {
     "duration": 0.007022,
     "end_time": "2024-03-21T22:53:15.907735",
     "exception": false,
     "start_time": "2024-03-21T22:53:15.900713",
     "status": "completed"
    },
    "tags": []
   },
   "source": [
    "**count:** This shows the total number of entries (rows) in each non-numeric column. For example, there are 118560 entries in the RegionCode column.\n",
    "\n",
    "**unique:** This indicates the number of unique text values present in each non-numeric column. There are six unique RegionCode values, likely representing different regions of the world.\n",
    " \n",
    "**top:** This column shows the most frequent value in each non-numeric column. For instance, \"EU\" appears most often in the RegionCode column.\n",
    " \n",
    "**freq:** This indicates the number of times the most frequent value (top) appears in each column. In this case, the value \"EU\" appears 45140 times in the RegionCode column."
   ]
  },
  {
   "cell_type": "markdown",
   "id": "283639f6",
   "metadata": {
    "papermill": {
     "duration": 0.007098,
     "end_time": "2024-03-21T22:53:15.921950",
     "exception": false,
     "start_time": "2024-03-21T22:53:15.914852",
     "status": "completed"
    },
    "tags": []
   },
   "source": [
    "# ****Let's clean the data"
   ]
  },
  {
   "cell_type": "code",
   "execution_count": 10,
   "id": "808fe80e",
   "metadata": {
    "execution": {
     "iopub.execute_input": "2024-03-21T22:53:15.938737Z",
     "iopub.status.busy": "2024-03-21T22:53:15.937409Z",
     "iopub.status.idle": "2024-03-21T22:53:16.060583Z",
     "shell.execute_reply": "2024-03-21T22:53:16.059485Z"
    },
    "papermill": {
     "duration": 0.133374,
     "end_time": "2024-03-21T22:53:16.062497",
     "exception": false,
     "start_time": "2024-03-21T22:53:15.929123",
     "status": "completed"
    },
    "tags": []
   },
   "outputs": [
    {
     "data": {
      "text/html": [
       "<div>\n",
       "<style scoped>\n",
       "    .dataframe tbody tr th:only-of-type {\n",
       "        vertical-align: middle;\n",
       "    }\n",
       "\n",
       "    .dataframe tbody tr th {\n",
       "        vertical-align: top;\n",
       "    }\n",
       "\n",
       "    .dataframe thead th {\n",
       "        text-align: right;\n",
       "    }\n",
       "</style>\n",
       "<table border=\"1\" class=\"dataframe\">\n",
       "  <thead>\n",
       "    <tr style=\"text-align: right;\">\n",
       "      <th></th>\n",
       "      <th>RegionCode</th>\n",
       "      <th>RegionName</th>\n",
       "      <th>CountryCode</th>\n",
       "      <th>CountryName</th>\n",
       "      <th>Year</th>\n",
       "      <th>Sex</th>\n",
       "      <th>AgeGroup</th>\n",
       "      <th>Generation</th>\n",
       "      <th>SuicideCount</th>\n",
       "      <th>CauseSpecificDeathPercentage</th>\n",
       "      <th>DeathRatePer100K</th>\n",
       "      <th>Population</th>\n",
       "      <th>GDP</th>\n",
       "      <th>GDPPerCapita</th>\n",
       "      <th>GrossNationalIncome</th>\n",
       "      <th>GNIPerCapita</th>\n",
       "      <th>InflationRate</th>\n",
       "      <th>EmploymentPopulationRatio</th>\n",
       "    </tr>\n",
       "  </thead>\n",
       "  <tbody>\n",
       "    <tr>\n",
       "      <th>0</th>\n",
       "      <td>EU</td>\n",
       "      <td>Europe</td>\n",
       "      <td>ALB</td>\n",
       "      <td>Albania</td>\n",
       "      <td>1992</td>\n",
       "      <td>Male</td>\n",
       "      <td>0-14 years</td>\n",
       "      <td>Generation Alpha</td>\n",
       "      <td>0.0</td>\n",
       "      <td>0.000000</td>\n",
       "      <td>0.000000</td>\n",
       "      <td>3247039.0</td>\n",
       "      <td>6.521750e+08</td>\n",
       "      <td>200.85222</td>\n",
       "      <td>9.061842e+08</td>\n",
       "      <td>1740.0</td>\n",
       "      <td>226.005421</td>\n",
       "      <td>45.315</td>\n",
       "    </tr>\n",
       "    <tr>\n",
       "      <th>4</th>\n",
       "      <td>EU</td>\n",
       "      <td>Europe</td>\n",
       "      <td>ALB</td>\n",
       "      <td>Albania</td>\n",
       "      <td>1992</td>\n",
       "      <td>Male</td>\n",
       "      <td>15-24 years</td>\n",
       "      <td>Generation Z</td>\n",
       "      <td>5.0</td>\n",
       "      <td>3.401361</td>\n",
       "      <td>3.531073</td>\n",
       "      <td>3247039.0</td>\n",
       "      <td>6.521750e+08</td>\n",
       "      <td>200.85222</td>\n",
       "      <td>9.061842e+08</td>\n",
       "      <td>1740.0</td>\n",
       "      <td>226.005421</td>\n",
       "      <td>45.315</td>\n",
       "    </tr>\n",
       "    <tr>\n",
       "      <th>5</th>\n",
       "      <td>EU</td>\n",
       "      <td>Europe</td>\n",
       "      <td>ALB</td>\n",
       "      <td>Albania</td>\n",
       "      <td>1992</td>\n",
       "      <td>Male</td>\n",
       "      <td>15-24 years</td>\n",
       "      <td>Generation Z</td>\n",
       "      <td>4.0</td>\n",
       "      <td>1.904762</td>\n",
       "      <td>3.276003</td>\n",
       "      <td>3247039.0</td>\n",
       "      <td>6.521750e+08</td>\n",
       "      <td>200.85222</td>\n",
       "      <td>9.061842e+08</td>\n",
       "      <td>1740.0</td>\n",
       "      <td>226.005421</td>\n",
       "      <td>45.315</td>\n",
       "    </tr>\n",
       "    <tr>\n",
       "      <th>6</th>\n",
       "      <td>EU</td>\n",
       "      <td>Europe</td>\n",
       "      <td>ALB</td>\n",
       "      <td>Albania</td>\n",
       "      <td>1992</td>\n",
       "      <td>Male</td>\n",
       "      <td>25-34 years</td>\n",
       "      <td>Millennials</td>\n",
       "      <td>3.0</td>\n",
       "      <td>1.357466</td>\n",
       "      <td>2.487562</td>\n",
       "      <td>3247039.0</td>\n",
       "      <td>6.521750e+08</td>\n",
       "      <td>200.85222</td>\n",
       "      <td>9.061842e+08</td>\n",
       "      <td>1740.0</td>\n",
       "      <td>226.005421</td>\n",
       "      <td>45.315</td>\n",
       "    </tr>\n",
       "    <tr>\n",
       "      <th>7</th>\n",
       "      <td>EU</td>\n",
       "      <td>Europe</td>\n",
       "      <td>ALB</td>\n",
       "      <td>Albania</td>\n",
       "      <td>1992</td>\n",
       "      <td>Male</td>\n",
       "      <td>25-34 years</td>\n",
       "      <td>Millennials</td>\n",
       "      <td>4.0</td>\n",
       "      <td>2.094241</td>\n",
       "      <td>3.202562</td>\n",
       "      <td>3247039.0</td>\n",
       "      <td>6.521750e+08</td>\n",
       "      <td>200.85222</td>\n",
       "      <td>9.061842e+08</td>\n",
       "      <td>1740.0</td>\n",
       "      <td>226.005421</td>\n",
       "      <td>45.315</td>\n",
       "    </tr>\n",
       "    <tr>\n",
       "      <th>...</th>\n",
       "      <td>...</td>\n",
       "      <td>...</td>\n",
       "      <td>...</td>\n",
       "      <td>...</td>\n",
       "      <td>...</td>\n",
       "      <td>...</td>\n",
       "      <td>...</td>\n",
       "      <td>...</td>\n",
       "      <td>...</td>\n",
       "      <td>...</td>\n",
       "      <td>...</td>\n",
       "      <td>...</td>\n",
       "      <td>...</td>\n",
       "      <td>...</td>\n",
       "      <td>...</td>\n",
       "      <td>...</td>\n",
       "      <td>...</td>\n",
       "      <td>...</td>\n",
       "    </tr>\n",
       "    <tr>\n",
       "      <th>118555</th>\n",
       "      <td>NAC</td>\n",
       "      <td>North America and the Caribbean</td>\n",
       "      <td>USA</td>\n",
       "      <td>United States of America</td>\n",
       "      <td>2021</td>\n",
       "      <td>Female</td>\n",
       "      <td>55-74 years</td>\n",
       "      <td>Baby Boomers</td>\n",
       "      <td>420.0</td>\n",
       "      <td>0.246321</td>\n",
       "      <td>5.286824</td>\n",
       "      <td>332031554.0</td>\n",
       "      <td>2.331510e+13</td>\n",
       "      <td>70219.47245</td>\n",
       "      <td>2.370530e+13</td>\n",
       "      <td>71130.0</td>\n",
       "      <td>4.697859</td>\n",
       "      <td>57.946</td>\n",
       "    </tr>\n",
       "    <tr>\n",
       "      <th>118556</th>\n",
       "      <td>NAC</td>\n",
       "      <td>North America and the Caribbean</td>\n",
       "      <td>USA</td>\n",
       "      <td>United States of America</td>\n",
       "      <td>2021</td>\n",
       "      <td>Female</td>\n",
       "      <td>75+ years</td>\n",
       "      <td>Silent Generation</td>\n",
       "      <td>276.0</td>\n",
       "      <td>0.146324</td>\n",
       "      <td>4.876199</td>\n",
       "      <td>332031554.0</td>\n",
       "      <td>2.331510e+13</td>\n",
       "      <td>70219.47245</td>\n",
       "      <td>2.370530e+13</td>\n",
       "      <td>71130.0</td>\n",
       "      <td>4.697859</td>\n",
       "      <td>57.946</td>\n",
       "    </tr>\n",
       "    <tr>\n",
       "      <th>118557</th>\n",
       "      <td>NAC</td>\n",
       "      <td>North America and the Caribbean</td>\n",
       "      <td>USA</td>\n",
       "      <td>United States of America</td>\n",
       "      <td>2021</td>\n",
       "      <td>Female</td>\n",
       "      <td>75+ years</td>\n",
       "      <td>Silent Generation</td>\n",
       "      <td>158.0</td>\n",
       "      <td>0.075728</td>\n",
       "      <td>4.203972</td>\n",
       "      <td>332031554.0</td>\n",
       "      <td>2.331510e+13</td>\n",
       "      <td>70219.47245</td>\n",
       "      <td>2.370530e+13</td>\n",
       "      <td>71130.0</td>\n",
       "      <td>4.697859</td>\n",
       "      <td>57.946</td>\n",
       "    </tr>\n",
       "    <tr>\n",
       "      <th>118558</th>\n",
       "      <td>NAC</td>\n",
       "      <td>North America and the Caribbean</td>\n",
       "      <td>USA</td>\n",
       "      <td>United States of America</td>\n",
       "      <td>2021</td>\n",
       "      <td>Female</td>\n",
       "      <td>75+ years</td>\n",
       "      <td>Silent Generation</td>\n",
       "      <td>127.0</td>\n",
       "      <td>0.022409</td>\n",
       "      <td>2.931077</td>\n",
       "      <td>332031554.0</td>\n",
       "      <td>2.331510e+13</td>\n",
       "      <td>70219.47245</td>\n",
       "      <td>2.370530e+13</td>\n",
       "      <td>71130.0</td>\n",
       "      <td>4.697859</td>\n",
       "      <td>57.946</td>\n",
       "    </tr>\n",
       "    <tr>\n",
       "      <th>118559</th>\n",
       "      <td>NAC</td>\n",
       "      <td>North America and the Caribbean</td>\n",
       "      <td>USA</td>\n",
       "      <td>United States of America</td>\n",
       "      <td>2021</td>\n",
       "      <td>Female</td>\n",
       "      <td>Unknown</td>\n",
       "      <td>Unknown</td>\n",
       "      <td>0.0</td>\n",
       "      <td>0.000000</td>\n",
       "      <td>NaN</td>\n",
       "      <td>332031554.0</td>\n",
       "      <td>2.331510e+13</td>\n",
       "      <td>70219.47245</td>\n",
       "      <td>2.370530e+13</td>\n",
       "      <td>71130.0</td>\n",
       "      <td>4.697859</td>\n",
       "      <td>57.946</td>\n",
       "    </tr>\n",
       "  </tbody>\n",
       "</table>\n",
       "<p>95976 rows × 18 columns</p>\n",
       "</div>"
      ],
      "text/plain": [
       "       RegionCode                       RegionName CountryCode  \\\n",
       "0              EU                           Europe         ALB   \n",
       "4              EU                           Europe         ALB   \n",
       "5              EU                           Europe         ALB   \n",
       "6              EU                           Europe         ALB   \n",
       "7              EU                           Europe         ALB   \n",
       "...           ...                              ...         ...   \n",
       "118555        NAC  North America and the Caribbean         USA   \n",
       "118556        NAC  North America and the Caribbean         USA   \n",
       "118557        NAC  North America and the Caribbean         USA   \n",
       "118558        NAC  North America and the Caribbean         USA   \n",
       "118559        NAC  North America and the Caribbean         USA   \n",
       "\n",
       "                     CountryName  Year     Sex     AgeGroup  \\\n",
       "0                        Albania  1992    Male   0-14 years   \n",
       "4                        Albania  1992    Male  15-24 years   \n",
       "5                        Albania  1992    Male  15-24 years   \n",
       "6                        Albania  1992    Male  25-34 years   \n",
       "7                        Albania  1992    Male  25-34 years   \n",
       "...                          ...   ...     ...          ...   \n",
       "118555  United States of America  2021  Female  55-74 years   \n",
       "118556  United States of America  2021  Female    75+ years   \n",
       "118557  United States of America  2021  Female    75+ years   \n",
       "118558  United States of America  2021  Female    75+ years   \n",
       "118559  United States of America  2021  Female      Unknown   \n",
       "\n",
       "               Generation  SuicideCount  CauseSpecificDeathPercentage  \\\n",
       "0        Generation Alpha           0.0                      0.000000   \n",
       "4            Generation Z           5.0                      3.401361   \n",
       "5            Generation Z           4.0                      1.904762   \n",
       "6             Millennials           3.0                      1.357466   \n",
       "7             Millennials           4.0                      2.094241   \n",
       "...                   ...           ...                           ...   \n",
       "118555       Baby Boomers         420.0                      0.246321   \n",
       "118556  Silent Generation         276.0                      0.146324   \n",
       "118557  Silent Generation         158.0                      0.075728   \n",
       "118558  Silent Generation         127.0                      0.022409   \n",
       "118559            Unknown           0.0                      0.000000   \n",
       "\n",
       "        DeathRatePer100K   Population           GDP  GDPPerCapita  \\\n",
       "0               0.000000    3247039.0  6.521750e+08     200.85222   \n",
       "4               3.531073    3247039.0  6.521750e+08     200.85222   \n",
       "5               3.276003    3247039.0  6.521750e+08     200.85222   \n",
       "6               2.487562    3247039.0  6.521750e+08     200.85222   \n",
       "7               3.202562    3247039.0  6.521750e+08     200.85222   \n",
       "...                  ...          ...           ...           ...   \n",
       "118555          5.286824  332031554.0  2.331510e+13   70219.47245   \n",
       "118556          4.876199  332031554.0  2.331510e+13   70219.47245   \n",
       "118557          4.203972  332031554.0  2.331510e+13   70219.47245   \n",
       "118558          2.931077  332031554.0  2.331510e+13   70219.47245   \n",
       "118559               NaN  332031554.0  2.331510e+13   70219.47245   \n",
       "\n",
       "        GrossNationalIncome  GNIPerCapita  InflationRate  \\\n",
       "0              9.061842e+08        1740.0     226.005421   \n",
       "4              9.061842e+08        1740.0     226.005421   \n",
       "5              9.061842e+08        1740.0     226.005421   \n",
       "6              9.061842e+08        1740.0     226.005421   \n",
       "7              9.061842e+08        1740.0     226.005421   \n",
       "...                     ...           ...            ...   \n",
       "118555         2.370530e+13       71130.0       4.697859   \n",
       "118556         2.370530e+13       71130.0       4.697859   \n",
       "118557         2.370530e+13       71130.0       4.697859   \n",
       "118558         2.370530e+13       71130.0       4.697859   \n",
       "118559         2.370530e+13       71130.0       4.697859   \n",
       "\n",
       "        EmploymentPopulationRatio  \n",
       "0                          45.315  \n",
       "4                          45.315  \n",
       "5                          45.315  \n",
       "6                          45.315  \n",
       "7                          45.315  \n",
       "...                           ...  \n",
       "118555                     57.946  \n",
       "118556                     57.946  \n",
       "118557                     57.946  \n",
       "118558                     57.946  \n",
       "118559                     57.946  \n",
       "\n",
       "[95976 rows x 18 columns]"
      ]
     },
     "execution_count": 10,
     "metadata": {},
     "output_type": "execute_result"
    }
   ],
   "source": [
    "df = df.drop_duplicates()\n",
    "df\n"
   ]
  },
  {
   "cell_type": "code",
   "execution_count": null,
   "id": "259c37e9",
   "metadata": {
    "papermill": {
     "duration": 0.007529,
     "end_time": "2024-03-21T22:53:16.078164",
     "exception": false,
     "start_time": "2024-03-21T22:53:16.070635",
     "status": "completed"
    },
    "tags": []
   },
   "outputs": [],
   "source": []
  },
  {
   "cell_type": "code",
   "execution_count": 11,
   "id": "6eb3d912",
   "metadata": {
    "execution": {
     "iopub.execute_input": "2024-03-21T22:53:16.095170Z",
     "iopub.status.busy": "2024-03-21T22:53:16.094841Z",
     "iopub.status.idle": "2024-03-21T22:53:16.101423Z",
     "shell.execute_reply": "2024-03-21T22:53:16.100734Z"
    },
    "papermill": {
     "duration": 0.017056,
     "end_time": "2024-03-21T22:53:16.102974",
     "exception": false,
     "start_time": "2024-03-21T22:53:16.085918",
     "status": "completed"
    },
    "tags": []
   },
   "outputs": [],
   "source": [
    "def clean_and_visualize_missing_values(df, threshold=20):\n",
    "    \"\"\"Calculates missing value percentages, creates a visualization, and handles missing values.\"\"\"\n",
    "\n",
    "    missing_percentages = df.isna().sum() * 100 / len(df)\n",
    "\n",
    "    # Print information about missing values\n",
    "    print(\"Number of columns with missing values above threshold:\", sum(missing_percentages > threshold))\n",
    "\n",
    "     # Sort and visualize missing percentages\n",
    "    missing_percentages_sorted = missing_percentages.sort_values(ascending=False)\n",
    "    missing_percentages_sorted.plot(kind='barh', title=\"Percentage of Missing Values\")\n",
    "    plt.axvline(x=threshold, color='r', linestyle='--', label='Threshold')  # Add threshold line\n",
    "    plt.xlabel(\"Percentage of Missing Values\")\n",
    "    plt.legend()\n",
    "    plt.show()\n",
    "\n",
    "    # Handle missing values (e.g., drop columns for demonstration)\n",
    "    for column, missing_percentage in missing_percentages_sorted.items():\n",
    "        if missing_percentage > threshold:\n",
    "            df.drop(columns=column, inplace=True)\n",
    "            print(\"Dropped column:\", column)\n",
    "\n",
    "\n"
   ]
  },
  {
   "cell_type": "markdown",
   "id": "12c29008",
   "metadata": {
    "papermill": {
     "duration": 0.008402,
     "end_time": "2024-03-21T22:53:16.119693",
     "exception": false,
     "start_time": "2024-03-21T22:53:16.111291",
     "status": "completed"
    },
    "tags": []
   },
   "source": [
    "1. Defines a function clean_and_visualize_missing_values that calculates missing value percentages, creates a visualization, and handles missing values based on a threshold parameter (threshold with a default value of 20).\n",
    "2. Prints information about the number of columns with missing values above the threshold.\n",
    "3. Sorts and visualizes missing percentages in descending order, adds a threshold line to the plot, and displays the plot with additional labeling.\n",
    "4. Handles missing values by dropping columns that exceed the threshold, and prints a message for each dropped column."
   ]
  },
  {
   "cell_type": "code",
   "execution_count": null,
   "id": "aa4a02be",
   "metadata": {
    "papermill": {
     "duration": 0.00737,
     "end_time": "2024-03-21T22:53:16.135226",
     "exception": false,
     "start_time": "2024-03-21T22:53:16.127856",
     "status": "completed"
    },
    "tags": []
   },
   "outputs": [],
   "source": []
  },
  {
   "cell_type": "markdown",
   "id": "bfa502dc",
   "metadata": {
    "papermill": {
     "duration": 0.007318,
     "end_time": "2024-03-21T22:53:16.150096",
     "exception": false,
     "start_time": "2024-03-21T22:53:16.142778",
     "status": "completed"
    },
    "tags": []
   },
   "source": [
    "# Exploratory Data Analysis"
   ]
  },
  {
   "cell_type": "code",
   "execution_count": 12,
   "id": "c57d73cd",
   "metadata": {
    "execution": {
     "iopub.execute_input": "2024-03-21T22:53:16.167038Z",
     "iopub.status.busy": "2024-03-21T22:53:16.166553Z",
     "iopub.status.idle": "2024-03-21T22:53:16.219702Z",
     "shell.execute_reply": "2024-03-21T22:53:16.218768Z"
    },
    "papermill": {
     "duration": 0.063934,
     "end_time": "2024-03-21T22:53:16.221619",
     "exception": false,
     "start_time": "2024-03-21T22:53:16.157685",
     "status": "completed"
    },
    "tags": []
   },
   "outputs": [
    {
     "data": {
      "text/html": [
       "\n",
       "<style>\n",
       ".icon {  \n",
       "  float: right;\n",
       "  font-size: 500%;\n",
       "  position: absolute;\n",
       "  top: 0rem;\n",
       "  right: -0.3rem;\n",
       "  opacity: 0.16;\n",
       "}\n",
       "\n",
       "#container {\n",
       "  width: 100%;\n",
       "  max-width: 1200px;\n",
       "  display: flex;\n",
       "  flex-wrap: wrap;\n",
       "}\n",
       "\n",
       ".kpi-card {\n",
       "  overflow: hidden;\n",
       "  position: relative;\n",
       "  box-shadow: 5px 5px 10px rgba(0, 0, 0, 0.3); /* Added 3D effect */\n",
       "  display: inline-block;\n",
       "  padding: 1em;\n",
       "  border-radius: 0.3em;\n",
       "  font-family: sans-serif;\n",
       "  width: calc(25% - 1em);\n",
       "  min-width: 180px;\n",
       "  margin: 0.5em;\n",
       "}\n",
       "\n",
       ".card-value {\n",
       "  display: block;\n",
       "  font-size: 200%;\n",
       "  font-weight: bold;\n",
       "  color: white; /* Changed title color to white */\n",
       "}\n",
       "\n",
       ".card-text {\n",
       "  display: block;\n",
       "  font-size: 70%;\n",
       "  padding-left: 0.2em;\n",
       "  color: white; /* Changed title color to white */\n",
       "}\n",
       "\n",
       ".orange {\n",
       "  background: #ffc241;\n",
       "}\n",
       "\n",
       ".purple {\n",
       "  background: #886ab5;\n",
       "}\n",
       "\n",
       ".grey-dark {\n",
       "  background: #495057;\n",
       "}\n",
       "\n",
       ".red {\n",
       "  background: #a83b3b;\n",
       "}\n",
       "</style>\n",
       "\n",
       "<div id=\"container\">\n",
       "  <div class=\"kpi-card orange\">\n",
       "    <span class=\"card-value\">7.51M </span>\n",
       "    <span class=\"card-text\">Total Suicides</span>\n",
       "    <i class=\"fas fa-skull-crossbones icon\"></i>\n",
       "  </div>\n",
       "\n",
       "  <div class=\"kpi-card purple\">\n",
       "    <span class=\"card-value\">15 </span>\n",
       "    <span class=\"card-text\">Average Suicides per 100k</span>\n",
       "    <i class=\"fas fa-user-alt-slash icon\"></i>\n",
       "  </div>\n",
       "\n",
       "  <div class=\"kpi-card grey-dark\">\n",
       "    <span class=\"card-value\">$545.06B </span>\n",
       "    <span class=\"card-text\">Average GDP</span>\n",
       "    <i class=\"fas fa-chart-line icon\"></i>\n",
       "  </div>\n",
       "\n",
       "  <div class=\"kpi-card red\">\n",
       "    <span class=\"card-value\">17,775 </span>\n",
       "    <span class=\"card-text\">GDP per Capita</span>\n",
       "    <i class=\"fas fa-money-bill-alt icon\"></i>\n",
       "  </div>\n",
       "\n",
       "  <div class=\"kpi-card orange\">\n",
       "    <span class=\"card-value\">2001 </span>\n",
       "    <span class=\"card-text\">Year with Highest Suicide Rates</span>\n",
       "    <i class=\"fas fa-calendar-alt icon\"></i>\n",
       "  </div>\n",
       "\n",
       "  <div class=\"kpi-card purple\">\n",
       "    <span class=\"card-value\">2021 </span>\n",
       "    <span class=\"card-text\">Year with Lowest Suicide Rates</span>\n",
       "    <i class=\"fas fa-calendar-alt icon\"></i>\n",
       "  </div>\n",
       "\n",
       "  <div class=\"kpi-card grey-dark\">\n",
       "    <span class=\"card-value\">Silent Generation </span>\n",
       "    <span class=\"card-text\">Generation with Highest Suicide Rates</span>\n",
       "    <i class=\"fas fa-user icon\"></i>\n",
       "  </div>\n",
       "</div>\n"
      ],
      "text/plain": [
       "<IPython.core.display.HTML object>"
      ]
     },
     "execution_count": 12,
     "metadata": {},
     "output_type": "execute_result"
    }
   ],
   "source": [
    "from IPython.display import HTML\n",
    "\n",
    "total_suicides = df['SuicideCount'].sum() / 1e6  # Millions\n",
    "total_suicides_per_100k = df['DeathRatePer100K'].mean()\n",
    "\n",
    "# Calculate average GDP and GDP per Capita\n",
    "average_gdp = df['GDP'].mean()\n",
    "average_gdp_billion = average_gdp / 1e9  # Convert to billions of dollars\n",
    "average_gdp_per_capita = df['GDPPerCapita'].mean()\n",
    "\n",
    "# Calculate the year with the highest and lowest suicide rates, excluding 2022\n",
    "highest_suicide_year = df[df['Year'] != 2022].groupby('Year')['DeathRatePer100K'].sum().idxmax()\n",
    "lowest_suicide_year = df[df['Year'] != 2022].groupby('Year')['DeathRatePer100K'].sum().idxmin()\n",
    "\n",
    "# Calculate the generation with the highest suicide rates\n",
    "generation_with_highest_suicide = df.groupby('Generation')['DeathRatePer100K'].sum().idxmax()\n",
    "\n",
    "css_styles = \"\"\"\n",
    "<style>\n",
    ".icon {  \n",
    "  float: right;\n",
    "  font-size: 500%;\n",
    "  position: absolute;\n",
    "  top: 0rem;\n",
    "  right: -0.3rem;\n",
    "  opacity: 0.16;\n",
    "}\n",
    "\n",
    "#container {\n",
    "  width: 100%;\n",
    "  max-width: 1200px;\n",
    "  display: flex;\n",
    "  flex-wrap: wrap;\n",
    "}\n",
    "\n",
    ".kpi-card {\n",
    "  overflow: hidden;\n",
    "  position: relative;\n",
    "  box-shadow: 5px 5px 10px rgba(0, 0, 0, 0.3); /* Added 3D effect */\n",
    "  display: inline-block;\n",
    "  padding: 1em;\n",
    "  border-radius: 0.3em;\n",
    "  font-family: sans-serif;\n",
    "  width: calc(25% - 1em);\n",
    "  min-width: 180px;\n",
    "  margin: 0.5em;\n",
    "}\n",
    "\n",
    ".card-value {\n",
    "  display: block;\n",
    "  font-size: 200%;\n",
    "  font-weight: bold;\n",
    "  color: white; /* Changed title color to white */\n",
    "}\n",
    "\n",
    ".card-text {\n",
    "  display: block;\n",
    "  font-size: 70%;\n",
    "  padding-left: 0.2em;\n",
    "  color: white; /* Changed title color to white */\n",
    "}\n",
    "\n",
    ".orange {\n",
    "  background: #ffc241;\n",
    "}\n",
    "\n",
    ".purple {\n",
    "  background: #886ab5;\n",
    "}\n",
    "\n",
    ".grey-dark {\n",
    "  background: #495057;\n",
    "}\n",
    "\n",
    ".red {\n",
    "  background: #a83b3b;\n",
    "}\n",
    "</style>\n",
    "\"\"\"\n",
    "\n",
    "html_code = f\"\"\"\n",
    "<div id=\"container\">\n",
    "  <div class=\"kpi-card orange\">\n",
    "    <span class=\"card-value\">{total_suicides:,.2f}M </span>\n",
    "    <span class=\"card-text\">Total Suicides</span>\n",
    "    <i class=\"fas fa-skull-crossbones icon\"></i>\n",
    "  </div>\n",
    "\n",
    "  <div class=\"kpi-card purple\">\n",
    "    <span class=\"card-value\">{total_suicides_per_100k:,.0f} </span>\n",
    "    <span class=\"card-text\">Average Suicides per 100k</span>\n",
    "    <i class=\"fas fa-user-alt-slash icon\"></i>\n",
    "  </div>\n",
    "\n",
    "  <div class=\"kpi-card grey-dark\">\n",
    "    <span class=\"card-value\">${average_gdp_billion:.2f}B </span>\n",
    "    <span class=\"card-text\">Average GDP</span>\n",
    "    <i class=\"fas fa-chart-line icon\"></i>\n",
    "  </div>\n",
    "\n",
    "  <div class=\"kpi-card red\">\n",
    "    <span class=\"card-value\">{average_gdp_per_capita:,.0f} </span>\n",
    "    <span class=\"card-text\">GDP per Capita</span>\n",
    "    <i class=\"fas fa-money-bill-alt icon\"></i>\n",
    "  </div>\n",
    "\n",
    "  <div class=\"kpi-card orange\">\n",
    "    <span class=\"card-value\">{highest_suicide_year} </span>\n",
    "    <span class=\"card-text\">Year with Highest Suicide Rates</span>\n",
    "    <i class=\"fas fa-calendar-alt icon\"></i>\n",
    "  </div>\n",
    "\n",
    "  <div class=\"kpi-card purple\">\n",
    "    <span class=\"card-value\">{lowest_suicide_year} </span>\n",
    "    <span class=\"card-text\">Year with Lowest Suicide Rates</span>\n",
    "    <i class=\"fas fa-calendar-alt icon\"></i>\n",
    "  </div>\n",
    "\n",
    "  <div class=\"kpi-card grey-dark\">\n",
    "    <span class=\"card-value\">{generation_with_highest_suicide} </span>\n",
    "    <span class=\"card-text\">Generation with Highest Suicide Rates</span>\n",
    "    <i class=\"fas fa-user icon\"></i>\n",
    "  </div>\n",
    "</div>\n",
    "\"\"\"\n",
    "\n",
    "HTML(css_styles + html_code)\n",
    "\n"
   ]
  },
  {
   "cell_type": "markdown",
   "id": "9aae06d4",
   "metadata": {
    "papermill": {
     "duration": 0.00752,
     "end_time": "2024-03-21T22:53:16.237313",
     "exception": false,
     "start_time": "2024-03-21T22:53:16.229793",
     "status": "completed"
    },
    "tags": []
   },
   "source": []
  },
  {
   "cell_type": "code",
   "execution_count": 13,
   "id": "1d904eb5",
   "metadata": {
    "execution": {
     "iopub.execute_input": "2024-03-21T22:53:16.254408Z",
     "iopub.status.busy": "2024-03-21T22:53:16.253931Z",
     "iopub.status.idle": "2024-03-21T22:53:17.209640Z",
     "shell.execute_reply": "2024-03-21T22:53:17.208692Z"
    },
    "papermill": {
     "duration": 0.966826,
     "end_time": "2024-03-21T22:53:17.211799",
     "exception": false,
     "start_time": "2024-03-21T22:53:16.244973",
     "status": "completed"
    },
    "tags": []
   },
   "outputs": [
    {
     "data": {
      "image/png": "[encoded data removed]",
      "text/plain": [
       "<Figure size 1600x600 with 2 Axes>"
      ]
     },
     "metadata": {},
     "output_type": "display_data"
    }
   ],
   "source": [
    "# Get year-wise totals\n",
    "year_totals_count = df.groupby('Year')['SuicideCount'].sum().reset_index()\n",
    "year_totals_rate = df.groupby('Year')['DeathRatePer100K'].sum().reset_index()\n",
    "\n",
    "# Set up subplots\n",
    "fig, axes = plt.subplots(nrows=1, ncols=2, figsize=(16, 6))\n",
    "\n",
    "# Define a consistent color palette\n",
    "palette = 'Set1'  # Adjust palette as needed\n",
    "\n",
    "# Plot for Suicides Count\n",
    "sns.set_style('whitegrid')\n",
    "lineplot_count = sns.lineplot(\n",
    "    x='Year',\n",
    "    y='SuicideCount',\n",
    "    data=year_totals_count,\n",
    "    marker='o',\n",
    "    color='blue',\n",
    "    ax=axes[0],\n",
    "    linewidth=2  # Adjust line width\n",
    ")\n",
    "\n",
    "# Annotate peak year\n",
    "max_year = year_totals_count[year_totals_count['SuicideCount'] == year_totals_count['SuicideCount'].max()]\n",
    "min_year = year_totals_count[year_totals_count['SuicideCount'] == year_totals_count['SuicideCount'].min()]\n",
    "axes[0].annotate(\n",
    "    f\"Peak: {max_year['Year'].values[0]} ({max_year['SuicideCount'].values[0]:.0f})\",\n",
    "    xy=(max_year['Year'].values[0], max_year['SuicideCount'].values[0]),\n",
    "    xytext=(max_year['Year'].values[0] + 0.5, max_year['SuicideCount'].values[0] + 50),\n",
    "    arrowprops=dict(facecolor='black', arrowstyle='->'),\n",
    ")\n",
    "\n",
    "axes[0].annotate(\n",
    "    f\"Min: {min_year['Year'].values[0]} ({min_year['SuicideCount'].values[0]:.0f})\",\n",
    "    xy=(min_year['Year'].values[0], min_year['SuicideCount'].values[0]),\n",
    "    xytext=(min_year['Year'].values[0] + 0.5, min_year['SuicideCount'].values[0] - 50),\n",
    "    arrowprops=dict(facecolor='black', arrowstyle='->'),\n",
    ")\n",
    "\n",
    "# Add trendline\n",
    "sns.regplot(x='Year', y='SuicideCount', data=year_totals_count, ax=axes[0], color='r', line_kws={'linestyle':'--'})\n",
    "\n",
    "axes[0].set_xlabel(\"Year\", fontsize=14)\n",
    "axes[0].set_ylabel(\"Suicide Count\", fontsize=14)\n",
    "axes[0].set_title(\"Total Suicides Trend\", fontsize=16)\n",
    "\n",
    "# Plot for Suicides per 100k Population\n",
    "sns.set_style('whitegrid')\n",
    "lineplot_rate = sns.lineplot(\n",
    "    x='Year',\n",
    "    y='DeathRatePer100K',\n",
    "    data=year_totals_rate,\n",
    "    marker='o',\n",
    "    color='blue',\n",
    "    ax=axes[1],\n",
    "    linewidth=2  # Adjust line width\n",
    ")\n",
    "\n",
    "# Highlight and annotate years with highest and lowest rates\n",
    "highest_rate_year = year_totals_rate[year_totals_rate['DeathRatePer100K'] == year_totals_rate['DeathRatePer100K'].max()]\n",
    "lowest_rate_year = year_totals_rate[year_totals_rate['DeathRatePer100K'] == year_totals_rate['DeathRatePer100K'].min()]\n",
    "\n",
    "axes[1].annotate(\n",
    "    f\"Highest: {highest_rate_year['Year'].values[0]} ({highest_rate_year['DeathRatePer100K'].values[0]:.2f})\",\n",
    "    xy=(highest_rate_year['Year'].values[0], highest_rate_year['DeathRatePer100K'].values[0]),\n",
    "    xytext=(highest_rate_year['Year'].values[0] + 0.5, highest_rate_year['DeathRatePer100K'].values[0] + 1),\n",
    "    arrowprops=dict(facecolor='black', arrowstyle='->'),\n",
    ")\n",
    "\n",
    "axes[1].annotate(\n",
    "    f\"Lowest: {lowest_rate_year['Year'].values[0]} ({lowest_rate_year['DeathRatePer100K'].values[0]:.2f})\",\n",
    "    xy=(lowest_rate_year['Year'].values[0], lowest_rate_year['DeathRatePer100K'].values[0]),\n",
    "    xytext=(lowest_rate_year['Year'].values[0] + 0.5, lowest_rate_year['DeathRatePer100K'].values[0] - 1),\n",
    "    arrowprops=dict(facecolor='black', arrowstyle='->'),\n",
    ")\n",
    "\n",
    "# Add trendline\n",
    "sns.regplot(x='Year', y='DeathRatePer100K', data=year_totals_rate, ax=axes[1], color='r', line_kws={'linestyle':'--'})\n",
    "\n",
    "axes[1].set_xlabel(\"Year\", fontsize=14)\n",
    "axes[1].set_ylabel(\"Suicides per 100k Population\", fontsize=14)\n",
    "axes[1].set_title(\"Suicides per 100k Population Trend\", fontsize=16)\n",
    "\n",
    "# Adjust layout\n",
    "plt.tight_layout()\n",
    "\n",
    "# Show the plot\n",
    "plt.show()"
   ]
  },
  {
   "cell_type": "markdown",
   "id": "3994e21e",
   "metadata": {
    "papermill": {
     "duration": 0.008786,
     "end_time": "2024-03-21T22:53:17.229899",
     "exception": false,
     "start_time": "2024-03-21T22:53:17.221113",
     "status": "completed"
    },
    "tags": []
   },
   "source": []
  },
  {
   "cell_type": "code",
   "execution_count": 14,
   "id": "c9996a2c",
   "metadata": {
    "execution": {
     "iopub.execute_input": "2024-03-21T22:53:17.251267Z",
     "iopub.status.busy": "2024-03-21T22:53:17.250941Z",
     "iopub.status.idle": "2024-03-21T22:53:18.241799Z",
     "shell.execute_reply": "2024-03-21T22:53:18.240860Z"
    },
    "papermill": {
     "duration": 1.003949,
     "end_time": "2024-03-21T22:53:18.244190",
     "exception": false,
     "start_time": "2024-03-21T22:53:17.240241",
     "status": "completed"
    },
    "tags": []
   },
   "outputs": [
    {
     "data": {
      "image/png": "[encoded data removed]",
      "text/plain": [
       "<Figure size 1600x600 with 2 Axes>"
      ]
     },
     "metadata": {},
     "output_type": "display_data"
    }
   ],
   "source": [
    "# Get year-wise totals by gender\n",
    "gender_totals = df.groupby(['Year', 'Sex']).agg({'SuicideCount': 'sum', 'DeathRatePer100K': 'sum'}).reset_index()\n",
    "\n",
    "# Set up subplots\n",
    "fig, axes = plt.subplots(nrows=1, ncols=2, figsize=(16, 6))\n",
    "\n",
    "# Define consistent style parameters\n",
    "palette = 'Set1'\n",
    "line_width = 2\n",
    "\n",
    "# Plot for Suicides Count (stacked)\n",
    "sns.set_style('whitegrid')\n",
    "lineplot_count = sns.lineplot(\n",
    "    x='Year', y='SuicideCount', hue='Sex', data=gender_totals,\n",
    "    marker='o', palette=palette, ax=axes[0], linewidth=line_width\n",
    ")\n",
    "axes[0].set_xlabel(\"Year\", fontsize=14)\n",
    "axes[0].set_ylabel(\"Suicides Count\", fontsize=14)\n",
    "axes[0].set_title(\"Total Suicides per Year by Gender\", fontsize=16)\n",
    "\n",
    "# Plot for Suicides per 100k Population (stacked)\n",
    "sns.set_style('whitegrid')\n",
    "lineplot_rate = sns.lineplot(\n",
    "    x='Year', y='DeathRatePer100K', hue='Sex', data=gender_totals,\n",
    "    marker='o', palette=palette, ax=axes[1], linewidth=line_width\n",
    ")\n",
    "axes[1].set_xlabel(\"Year\", fontsize=14)\n",
    "axes[1].set_ylabel(\"Suicides per 100k Population\", fontsize=14)\n",
    "axes[1].set_title(\"Suicides Rate per 100k Population by Gender\", fontsize=16)\n",
    "\n",
    "# Annotate significant increases/decreases for each gender in the Suicides Count plot\n",
    "threshold = 100  # Adjust as needed\n",
    "for gender in gender_totals['Sex'].unique():\n",
    "    max_years_gender = gender_totals[gender_totals['Sex'] == gender].nlargest(1, 'SuicideCount')\n",
    "    min_years_gender = gender_totals[gender_totals['Sex'] == gender].nsmallest(1, 'SuicideCount')\n",
    "    max_year = max_years_gender.iloc[0]['Year']\n",
    "    min_year = min_years_gender.iloc[0]['Year']\n",
    "    max_count = max_years_gender.iloc[0]['SuicideCount']\n",
    "    min_count = min_years_gender.iloc[0]['SuicideCount']\n",
    "    if max_count - min_count >= threshold:\n",
    "        axes[0].annotate(f\"{gender} peak: {max_year} ({max_count:.0f})\", xy=(max_year, max_count),\n",
    "                        xytext=(max_year + 0.5, max_count + 50), arrowprops=dict(facecolor='black', arrowstyle='->'))\n",
    "\n",
    "# Annotate maximum and minimum peaks for each gender in the Suicides Rate per 100k Population plot\n",
    "for gender in gender_totals['Sex'].unique():\n",
    "    max_years_gender = gender_totals[gender_totals['Sex'] == gender].nlargest(1, 'DeathRatePer100K')\n",
    "    min_years_gender = gender_totals[gender_totals['Sex'] == gender].nsmallest(1, 'DeathRatePer100K')\n",
    "    max_year = max_years_gender.iloc[0]['Year']\n",
    "    min_year = min_years_gender.iloc[0]['Year']\n",
    "    max_rate = max_years_gender.iloc[0]['DeathRatePer100K']\n",
    "    min_rate = min_years_gender.iloc[0]['DeathRatePer100K']\n",
    "    axes[1].annotate(f\"{gender} max: {max_year} ({max_rate:.0f})\", xy=(max_year, max_rate),\n",
    "                    xytext=(max_year + 0.5, max_rate + 0.5), arrowprops=dict(facecolor='black', arrowstyle='->'))\n",
    "    axes[1].annotate(f\"{gender} min: {min_year} ({min_rate:.0f})\", xy=(min_year, min_rate),\n",
    "                    xytext=(min_year + 0.5, min_rate - 0.5), arrowprops=dict(facecolor='black', arrowstyle='->'))\n",
    "\n",
    "# Set legend outside the plot area\n",
    "axes[0].legend(title=\"Sex\", loc='upper left', bbox_to_anchor=(1, 1))\n",
    "axes[1].legend(title=\"Sex\", loc='upper left', bbox_to_anchor=(1, 1))\n",
    "\n",
    "# Adjust and show plot\n",
    "for ax in axes:\n",
    "    ax.grid(True, linestyle='--', linewidth=0.5)\n",
    "\n",
    "plt.tight_layout()\n",
    "plt.show()"
   ]
  },
  {
   "cell_type": "markdown",
   "id": "19287f2f",
   "metadata": {
    "papermill": {
     "duration": 0.012378,
     "end_time": "2024-03-21T22:53:18.267236",
     "exception": false,
     "start_time": "2024-03-21T22:53:18.254858",
     "status": "completed"
    },
    "tags": []
   },
   "source": []
  },
  {
   "cell_type": "markdown",
   "id": "e72183b0",
   "metadata": {
    "papermill": {
     "duration": 0.01017,
     "end_time": "2024-03-21T22:53:18.288954",
     "exception": false,
     "start_time": "2024-03-21T22:53:18.278784",
     "status": "completed"
    },
    "tags": []
   },
   "source": [
    "# Does location influence suicide rates?"
   ]
  },
  {
   "cell_type": "code",
   "execution_count": 15,
   "id": "3e45e664",
   "metadata": {
    "execution": {
     "iopub.execute_input": "2024-03-21T22:53:18.311152Z",
     "iopub.status.busy": "2024-03-21T22:53:18.310819Z",
     "iopub.status.idle": "2024-03-21T22:53:18.354111Z",
     "shell.execute_reply": "2024-03-21T22:53:18.352867Z"
    },
    "papermill": {
     "duration": 0.057017,
     "end_time": "2024-03-21T22:53:18.356309",
     "exception": false,
     "start_time": "2024-03-21T22:53:18.299292",
     "status": "completed"
    },
    "tags": []
   },
   "outputs": [],
   "source": [
    "df_standardized = pd.read_csv(\"/kaggle/input/global-suicide-rates-1990-to-2022/age_std_suicide_rates_1990-2022.csv\")"
   ]
  },
  {
   "cell_type": "code",
   "execution_count": 16,
   "id": "10b33c5b",
   "metadata": {
    "execution": {
     "iopub.execute_input": "2024-03-21T22:53:18.379128Z",
     "iopub.status.busy": "2024-03-21T22:53:18.378803Z",
     "iopub.status.idle": "2024-03-21T22:53:18.405463Z",
     "shell.execute_reply": "2024-03-21T22:53:18.404543Z"
    },
    "papermill": {
     "duration": 0.040256,
     "end_time": "2024-03-21T22:53:18.407270",
     "exception": false,
     "start_time": "2024-03-21T22:53:18.367014",
     "status": "completed"
    },
    "tags": []
   },
   "outputs": [
    {
     "data": {
      "text/html": [
       "<div>\n",
       "<style scoped>\n",
       "    .dataframe tbody tr th:only-of-type {\n",
       "        vertical-align: middle;\n",
       "    }\n",
       "\n",
       "    .dataframe tbody tr th {\n",
       "        vertical-align: top;\n",
       "    }\n",
       "\n",
       "    .dataframe thead th {\n",
       "        text-align: right;\n",
       "    }\n",
       "</style>\n",
       "<table border=\"1\" class=\"dataframe\">\n",
       "  <thead>\n",
       "    <tr style=\"text-align: right;\">\n",
       "      <th>CountryName</th>\n",
       "      <th>Russian Federation</th>\n",
       "      <th>United States of America</th>\n",
       "      <th>Japan</th>\n",
       "      <th>Germany</th>\n",
       "      <th>Republic of Korea</th>\n",
       "      <th>France</th>\n",
       "      <th>Ukraine</th>\n",
       "      <th>Brazil</th>\n",
       "      <th>Poland</th>\n",
       "      <th>Mexico</th>\n",
       "    </tr>\n",
       "    <tr>\n",
       "      <th>Year</th>\n",
       "      <th></th>\n",
       "      <th></th>\n",
       "      <th></th>\n",
       "      <th></th>\n",
       "      <th></th>\n",
       "      <th></th>\n",
       "      <th></th>\n",
       "      <th></th>\n",
       "      <th></th>\n",
       "      <th></th>\n",
       "    </tr>\n",
       "  </thead>\n",
       "  <tbody>\n",
       "    <tr>\n",
       "      <th>1990</th>\n",
       "      <td>39150.0</td>\n",
       "      <td>30906.0</td>\n",
       "      <td>20088.0</td>\n",
       "      <td>13924.0</td>\n",
       "      <td>3159.0</td>\n",
       "      <td>11403.0</td>\n",
       "      <td>10693.0</td>\n",
       "      <td>4843.0</td>\n",
       "      <td>4970.0</td>\n",
       "      <td>1938.0</td>\n",
       "    </tr>\n",
       "    <tr>\n",
       "      <th>1991</th>\n",
       "      <td>39388.0</td>\n",
       "      <td>30810.0</td>\n",
       "      <td>19875.0</td>\n",
       "      <td>14010.0</td>\n",
       "      <td>3069.0</td>\n",
       "      <td>11502.0</td>\n",
       "      <td>10743.0</td>\n",
       "      <td>5182.0</td>\n",
       "      <td>5316.0</td>\n",
       "      <td>2114.0</td>\n",
       "    </tr>\n",
       "    <tr>\n",
       "      <th>1992</th>\n",
       "      <td>46125.0</td>\n",
       "      <td>30484.0</td>\n",
       "      <td>20893.0</td>\n",
       "      <td>13458.0</td>\n",
       "      <td>3533.0</td>\n",
       "      <td>11644.0</td>\n",
       "      <td>11731.0</td>\n",
       "      <td>5252.0</td>\n",
       "      <td>5713.0</td>\n",
       "      <td>2246.0</td>\n",
       "    </tr>\n",
       "    <tr>\n",
       "      <th>1993</th>\n",
       "      <td>56136.0</td>\n",
       "      <td>31102.0</td>\n",
       "      <td>20516.0</td>\n",
       "      <td>12690.0</td>\n",
       "      <td>4124.0</td>\n",
       "      <td>12251.0</td>\n",
       "      <td>12541.0</td>\n",
       "      <td>5547.0</td>\n",
       "      <td>5624.0</td>\n",
       "      <td>2358.0</td>\n",
       "    </tr>\n",
       "    <tr>\n",
       "      <th>1994</th>\n",
       "      <td>61886.0</td>\n",
       "      <td>31142.0</td>\n",
       "      <td>20923.0</td>\n",
       "      <td>12718.0</td>\n",
       "      <td>4212.0</td>\n",
       "      <td>12041.0</td>\n",
       "      <td>13907.0</td>\n",
       "      <td>5931.0</td>\n",
       "      <td>5519.0</td>\n",
       "      <td>2603.0</td>\n",
       "    </tr>\n",
       "  </tbody>\n",
       "</table>\n",
       "</div>"
      ],
      "text/plain": [
       "CountryName  Russian Federation  United States of America    Japan  Germany  \\\n",
       "Year                                                                          \n",
       "1990                    39150.0                   30906.0  20088.0  13924.0   \n",
       "1991                    39388.0                   30810.0  19875.0  14010.0   \n",
       "1992                    46125.0                   30484.0  20893.0  13458.0   \n",
       "1993                    56136.0                   31102.0  20516.0  12690.0   \n",
       "1994                    61886.0                   31142.0  20923.0  12718.0   \n",
       "\n",
       "CountryName  Republic of Korea   France  Ukraine  Brazil  Poland  Mexico  \n",
       "Year                                                                      \n",
       "1990                    3159.0  11403.0  10693.0  4843.0  4970.0  1938.0  \n",
       "1991                    3069.0  11502.0  10743.0  5182.0  5316.0  2114.0  \n",
       "1992                    3533.0  11644.0  11731.0  5252.0  5713.0  2246.0  \n",
       "1993                    4124.0  12251.0  12541.0  5547.0  5624.0  2358.0  \n",
       "1994                    4212.0  12041.0  13907.0  5931.0  5519.0  2603.0  "
      ]
     },
     "execution_count": 16,
     "metadata": {},
     "output_type": "execute_result"
    }
   ],
   "source": [
    "df_pivoted_tot = df_standardized.pivot_table(index='Year', columns='CountryName', values='SuicideCount', aggfunc='sum')\n",
    "\n",
    "# Sum the suicide counts for each country\n",
    "country_suicide_totals = df_pivoted_tot.sum()\n",
    "\n",
    "# Get the top 10 countries with the highest total suicide counts\n",
    "top_10_countries = country_suicide_totals.nlargest(10)\n",
    "\n",
    "# Filter the DataFrame to include only the top 10 countries\n",
    "df_top_10 = df_pivoted_tot[top_10_countries.index]\n",
    "\n",
    "# Convert 'Year' column to string type (if necessary)\n",
    "df_top_10.index = df_top_10.index.astype(str)\n",
    "\n",
    "# Display the resulting DataFrame\n",
    "df_top_10.head()"
   ]
  },
  {
   "cell_type": "markdown",
   "id": "cd6ac562",
   "metadata": {
    "papermill": {
     "duration": 0.010143,
     "end_time": "2024-03-21T22:53:18.428257",
     "exception": false,
     "start_time": "2024-03-21T22:53:18.418114",
     "status": "completed"
    },
    "tags": []
   },
   "source": []
  },
  {
   "cell_type": "markdown",
   "id": "3e88b59a",
   "metadata": {
    "papermill": {
     "duration": 0.010218,
     "end_time": "2024-03-21T22:53:18.448873",
     "exception": false,
     "start_time": "2024-03-21T22:53:18.438655",
     "status": "completed"
    },
    "tags": []
   },
   "source": [
    "# Suicide Rates Over Time"
   ]
  },
  {
   "cell_type": "code",
   "execution_count": 17,
   "id": "3f84f68a",
   "metadata": {
    "execution": {
     "iopub.execute_input": "2024-03-21T22:53:18.471934Z",
     "iopub.status.busy": "2024-03-21T22:53:18.470816Z",
     "iopub.status.idle": "2024-03-21T22:53:22.605269Z",
     "shell.execute_reply": "2024-03-21T22:53:22.604557Z"
    },
    "papermill": {
     "duration": 4.148256,
     "end_time": "2024-03-21T22:53:22.607667",
     "exception": false,
     "start_time": "2024-03-21T22:53:18.459411",
     "status": "completed"
    },
    "tags": []
   },
   "outputs": [
    {
     "data": {
      "image/png": "[encoded data removed]",
      "text/plain": [
       "<Figure size 1200x800 with 1 Axes>"
      ]
     },
     "metadata": {},
     "output_type": "display_data"
    }
   ],
   "source": [
    "plt.figure(figsize=(12, 8))\n",
    "sns.lineplot(x='Year', y='DeathRatePer100K', hue='RegionName', data=df)\n",
    "plt.title('Suicide Rates Over Time by Region')\n",
    "plt.xlabel('Year')\n",
    "plt.ylabel('DeathRatePer100K')\n",
    "plt.legend(title='Region')\n",
    "plt.show()"
   ]
  },
  {
   "cell_type": "code",
   "execution_count": 18,
   "id": "3cd57f19",
   "metadata": {
    "execution": {
     "iopub.execute_input": "2024-03-21T22:53:22.636156Z",
     "iopub.status.busy": "2024-03-21T22:53:22.635632Z",
     "iopub.status.idle": "2024-03-21T22:53:24.079417Z",
     "shell.execute_reply": "2024-03-21T22:53:24.077262Z"
    },
    "papermill": {
     "duration": 1.460131,
     "end_time": "2024-03-21T22:53:24.081265",
     "exception": false,
     "start_time": "2024-03-21T22:53:22.621134",
     "status": "completed"
    },
    "tags": []
   },
   "outputs": [
    {
     "data": {
      "text/html": [
       "        <script type=\"text/javascript\">\n",
       "        window.PlotlyConfig = {MathJaxConfig: 'local'};\n",
       "        if (window.MathJax && window.MathJax.Hub && window.MathJax.Hub.Config) {window.MathJax.Hub.Config({SVG: {font: \"STIX-Web\"}});}\n",
       "        if (typeof require !== 'undefined') {\n",
       "        require.undef(\"plotly\");\n",
       "        requirejs.config({\n",
       "            paths: {\n",
       "                'plotly': ['https://cdn.plot.ly/plotly-2.27.0.min']\n",
       "            }\n",
       "        });\n",
       "        require(['plotly'], function(Plotly) {\n",
       "            window._Plotly = Plotly;\n",
       "        });\n",
       "        }\n",
       "        </script>\n",
       "        "
      ]
     },
     "metadata": {},
     "output_type": "display_data"
    },
    {
     "data": {
      "application/vnd.plotly.v1+json": {
       "config": {
        "linkText": "Export to plot.ly",
        "plotlyServerURL": "https://plot.ly",
        "showLink": false
       },
       "data": [
        {
         "type": "bar",
         "x": [
          "Russian Federation",
          "United States of America",
          "Japan",
          "Germany",
          "Republic of Korea",
          "France",
          "Ukraine",
          "Brazil",
          "Poland",
          "Mexico"
         ],
         "y": [
          1256440.0,
          1164733.0,
          816888.0,
          338037.0,
          326020.0,
          320387.0,
          309148.0,
          269397.0,
          166416.0,
          146073.0
         ]
        }
       ],
       "layout": {
        "font": {
         "color": "black"
        },
        "paper_bgcolor": "#F0EEED",
        "plot_bgcolor": "#F0EEED",
        "template": {
         "data": {
          "bar": [
           {
            "error_x": {
             "color": "#2a3f5f"
            },
            "error_y": {
             "color": "#2a3f5f"
            },
            "marker": {
             "line": {
              "color": "#E5ECF6",
              "width": 0.5
             },
             "pattern": {
              "fillmode": "overlay",
              "size": 10,
              "solidity": 0.2
             }
            },
            "type": "bar"
           }
          ],
          "barpolar": [
           {
            "marker": {
             "line": {
              "color": "#E5ECF6",
              "width": 0.5
             },
             "pattern": {
              "fillmode": "overlay",
              "size": 10,
              "solidity": 0.2
             }
            },
            "type": "barpolar"
           }
          ],
          "carpet": [
           {
            "aaxis": {
             "endlinecolor": "#2a3f5f",
             "gridcolor": "white",
             "linecolor": "white",
             "minorgridcolor": "white",
             "startlinecolor": "#2a3f5f"
            },
            "baxis": {
             "endlinecolor": "#2a3f5f",
             "gridcolor": "white",
             "linecolor": "white",
             "minorgridcolor": "white",
             "startlinecolor": "#2a3f5f"
            },
            "type": "carpet"
           }
          ],
          "choropleth": [
           {
            "colorbar": {
             "outlinewidth": 0,
             "ticks": ""
            },
            "type": "choropleth"
           }
          ],
          "contour": [
           {
            "colorbar": {
             "outlinewidth": 0,
             "ticks": ""
            },
            "colorscale": [
             [
              0.0,
              "#0d0887"
             ],
             [
              0.1111111111111111,
              "#46039f"
             ],
             [
              0.2222222222222222,
              "#7201a8"
             ],
             [
              0.3333333333333333,
              "#9c179e"
             ],
             [
              0.4444444444444444,
              "#bd3786"
             ],
             [
              0.5555555555555556,
              "#d8576b"
             ],
             [
              0.6666666666666666,
              "#ed7953"
             ],
             [
              0.7777777777777778,
              "#fb9f3a"
             ],
             [
              0.8888888888888888,
              "#fdca26"
             ],
             [
              1.0,
              "#f0f921"
             ]
            ],
            "type": "contour"
           }
          ],
          "contourcarpet": [
           {
            "colorbar": {
             "outlinewidth": 0,
             "ticks": ""
            },
            "type": "contourcarpet"
           }
          ],
          "heatmap": [
           {
            "colorbar": {
             "outlinewidth": 0,
             "ticks": ""
            },
            "colorscale": [
             [
              0.0,
              "#0d0887"
             ],
             [
              0.1111111111111111,
              "#46039f"
             ],
             [
              0.2222222222222222,
              "#7201a8"
             ],
             [
              0.3333333333333333,
              "#9c179e"
             ],
             [
              0.4444444444444444,
              "#bd3786"
             ],
             [
              0.5555555555555556,
              "#d8576b"
             ],
             [
              0.6666666666666666,
              "#ed7953"
             ],
             [
              0.7777777777777778,
              "#fb9f3a"
             ],
             [
              0.8888888888888888,
              "#fdca26"
             ],
             [
              1.0,
              "#f0f921"
             ]
            ],
            "type": "heatmap"
           }
          ],
          "heatmapgl": [
           {
            "colorbar": {
             "outlinewidth": 0,
             "ticks": ""
            },
            "colorscale": [
             [
              0.0,
              "#0d0887"
             ],
             [
              0.1111111111111111,
              "#46039f"
             ],
             [
              0.2222222222222222,
              "#7201a8"
             ],
             [
              0.3333333333333333,
              "#9c179e"
             ],
             [
              0.4444444444444444,
              "#bd3786"
             ],
             [
              0.5555555555555556,
              "#d8576b"
             ],
             [
              0.6666666666666666,
              "#ed7953"
             ],
             [
              0.7777777777777778,
              "#fb9f3a"
             ],
             [
              0.8888888888888888,
              "#fdca26"
             ],
             [
              1.0,
              "#f0f921"
             ]
            ],
            "type": "heatmapgl"
           }
          ],
          "histogram": [
           {
            "marker": {
             "pattern": {
              "fillmode": "overlay",
              "size": 10,
              "solidity": 0.2
             }
            },
            "type": "histogram"
           }
          ],
          "histogram2d": [
           {
            "colorbar": {
             "outlinewidth": 0,
             "ticks": ""
            },
            "colorscale": [
             [
              0.0,
              "#0d0887"
             ],
             [
              0.1111111111111111,
              "#46039f"
             ],
             [
              0.2222222222222222,
              "#7201a8"
             ],
             [
              0.3333333333333333,
              "#9c179e"
             ],
             [
              0.4444444444444444,
              "#bd3786"
             ],
             [
              0.5555555555555556,
              "#d8576b"
             ],
             [
              0.6666666666666666,
              "#ed7953"
             ],
             [
              0.7777777777777778,
              "#fb9f3a"
             ],
             [
              0.8888888888888888,
              "#fdca26"
             ],
             [
              1.0,
              "#f0f921"
             ]
            ],
            "type": "histogram2d"
           }
          ],
          "histogram2dcontour": [
           {
            "colorbar": {
             "outlinewidth": 0,
             "ticks": ""
            },
            "colorscale": [
             [
              0.0,
              "#0d0887"
             ],
             [
              0.1111111111111111,
              "#46039f"
             ],
             [
              0.2222222222222222,
              "#7201a8"
             ],
             [
              0.3333333333333333,
              "#9c179e"
             ],
             [
              0.4444444444444444,
              "#bd3786"
             ],
             [
              0.5555555555555556,
              "#d8576b"
             ],
             [
              0.6666666666666666,
              "#ed7953"
             ],
             [
              0.7777777777777778,
              "#fb9f3a"
             ],
             [
              0.8888888888888888,
              "#fdca26"
             ],
             [
              1.0,
              "#f0f921"
             ]
            ],
            "type": "histogram2dcontour"
           }
          ],
          "mesh3d": [
           {
            "colorbar": {
             "outlinewidth": 0,
             "ticks": ""
            },
            "type": "mesh3d"
           }
          ],
          "parcoords": [
           {
            "line": {
             "colorbar": {
              "outlinewidth": 0,
              "ticks": ""
             }
            },
            "type": "parcoords"
           }
          ],
          "pie": [
           {
            "automargin": true,
            "type": "pie"
           }
          ],
          "scatter": [
           {
            "fillpattern": {
             "fillmode": "overlay",
             "size": 10,
             "solidity": 0.2
            },
            "type": "scatter"
           }
          ],
          "scatter3d": [
           {
            "line": {
             "colorbar": {
              "outlinewidth": 0,
              "ticks": ""
             }
            },
            "marker": {
             "colorbar": {
              "outlinewidth": 0,
              "ticks": ""
             }
            },
            "type": "scatter3d"
           }
          ],
          "scattercarpet": [
           {
            "marker": {
             "colorbar": {
              "outlinewidth": 0,
              "ticks": ""
             }
            },
            "type": "scattercarpet"
           }
          ],
          "scattergeo": [
           {
            "marker": {
             "colorbar": {
              "outlinewidth": 0,
              "ticks": ""
             }
            },
            "type": "scattergeo"
           }
          ],
          "scattergl": [
           {
            "marker": {
             "colorbar": {
              "outlinewidth": 0,
              "ticks": ""
             }
            },
            "type": "scattergl"
           }
          ],
          "scattermapbox": [
           {
            "marker": {
             "colorbar": {
              "outlinewidth": 0,
              "ticks": ""
             }
            },
            "type": "scattermapbox"
           }
          ],
          "scatterpolar": [
           {
            "marker": {
             "colorbar": {
              "outlinewidth": 0,
              "ticks": ""
             }
            },
            "type": "scatterpolar"
           }
          ],
          "scatterpolargl": [
           {
            "marker": {
             "colorbar": {
              "outlinewidth": 0,
              "ticks": ""
             }
            },
            "type": "scatterpolargl"
           }
          ],
          "scatterternary": [
           {
            "marker": {
             "colorbar": {
              "outlinewidth": 0,
              "ticks": ""
             }
            },
            "type": "scatterternary"
           }
          ],
          "surface": [
           {
            "colorbar": {
             "outlinewidth": 0,
             "ticks": ""
            },
            "colorscale": [
             [
              0.0,
              "#0d0887"
             ],
             [
              0.1111111111111111,
              "#46039f"
             ],
             [
              0.2222222222222222,
              "#7201a8"
             ],
             [
              0.3333333333333333,
              "#9c179e"
             ],
             [
              0.4444444444444444,
              "#bd3786"
             ],
             [
              0.5555555555555556,
              "#d8576b"
             ],
             [
              0.6666666666666666,
              "#ed7953"
             ],
             [
              0.7777777777777778,
              "#fb9f3a"
             ],
             [
              0.8888888888888888,
              "#fdca26"
             ],
             [
              1.0,
              "#f0f921"
             ]
            ],
            "type": "surface"
           }
          ],
          "table": [
           {
            "cells": {
             "fill": {
              "color": "#EBF0F8"
             },
             "line": {
              "color": "white"
             }
            },
            "header": {
             "fill": {
              "color": "#C8D4E3"
             },
             "line": {
              "color": "white"
             }
            },
            "type": "table"
           }
          ]
         },
         "layout": {
          "annotationdefaults": {
           "arrowcolor": "#2a3f5f",
           "arrowhead": 0,
           "arrowwidth": 1
          },
          "autotypenumbers": "strict",
          "coloraxis": {
           "colorbar": {
            "outlinewidth": 0,
            "ticks": ""
           }
          },
          "colorscale": {
           "diverging": [
            [
             0,
             "#8e0152"
            ],
            [
             0.1,
             "#c51b7d"
            ],
            [
             0.2,
             "#de77ae"
            ],
            [
             0.3,
             "#f1b6da"
            ],
            [
             0.4,
             "#fde0ef"
            ],
            [
             0.5,
             "#f7f7f7"
            ],
            [
             0.6,
             "#e6f5d0"
            ],
            [
             0.7,
             "#b8e186"
            ],
            [
             0.8,
             "#7fbc41"
            ],
            [
             0.9,
             "#4d9221"
            ],
            [
             1,
             "#276419"
            ]
           ],
           "sequential": [
            [
             0.0,
             "#0d0887"
            ],
            [
             0.1111111111111111,
             "#46039f"
            ],
            [
             0.2222222222222222,
             "#7201a8"
            ],
            [
             0.3333333333333333,
             "#9c179e"
            ],
            [
             0.4444444444444444,
             "#bd3786"
            ],
            [
             0.5555555555555556,
             "#d8576b"
            ],
            [
             0.6666666666666666,
             "#ed7953"
            ],
            [
             0.7777777777777778,
             "#fb9f3a"
            ],
            [
             0.8888888888888888,
             "#fdca26"
            ],
            [
             1.0,
             "#f0f921"
            ]
           ],
           "sequentialminus": [
            [
             0.0,
             "#0d0887"
            ],
            [
             0.1111111111111111,
             "#46039f"
            ],
            [
             0.2222222222222222,
             "#7201a8"
            ],
            [
             0.3333333333333333,
             "#9c179e"
            ],
            [
             0.4444444444444444,
             "#bd3786"
            ],
            [
             0.5555555555555556,
             "#d8576b"
            ],
            [
             0.6666666666666666,
             "#ed7953"
            ],
            [
             0.7777777777777778,
             "#fb9f3a"
            ],
            [
             0.8888888888888888,
             "#fdca26"
            ],
            [
             1.0,
             "#f0f921"
            ]
           ]
          },
          "colorway": [
           "#636efa",
           "#EF553B",
           "#00cc96",
           "#ab63fa",
           "#FFA15A",
           "#19d3f3",
           "#FF6692",
           "#B6E880",
           "#FF97FF",
           "#FECB52"
          ],
          "font": {
           "color": "#2a3f5f"
          },
          "geo": {
           "bgcolor": "white",
           "lakecolor": "white",
           "landcolor": "#E5ECF6",
           "showlakes": true,
           "showland": true,
           "subunitcolor": "white"
          },
          "hoverlabel": {
           "align": "left"
          },
          "hovermode": "closest",
          "mapbox": {
           "style": "light"
          },
          "paper_bgcolor": "white",
          "plot_bgcolor": "#E5ECF6",
          "polar": {
           "angularaxis": {
            "gridcolor": "white",
            "linecolor": "white",
            "ticks": ""
           },
           "bgcolor": "#E5ECF6",
           "radialaxis": {
            "gridcolor": "white",
            "linecolor": "white",
            "ticks": ""
           }
          },
          "scene": {
           "xaxis": {
            "backgroundcolor": "#E5ECF6",
            "gridcolor": "white",
            "gridwidth": 2,
            "linecolor": "white",
            "showbackground": true,
            "ticks": "",
            "zerolinecolor": "white"
           },
           "yaxis": {
            "backgroundcolor": "#E5ECF6",
            "gridcolor": "white",
            "gridwidth": 2,
            "linecolor": "white",
            "showbackground": true,
            "ticks": "",
            "zerolinecolor": "white"
           },
           "zaxis": {
            "backgroundcolor": "#E5ECF6",
            "gridcolor": "white",
            "gridwidth": 2,
            "linecolor": "white",
            "showbackground": true,
            "ticks": "",
            "zerolinecolor": "white"
           }
          },
          "shapedefaults": {
           "line": {
            "color": "#2a3f5f"
           }
          },
          "ternary": {
           "aaxis": {
            "gridcolor": "white",
            "linecolor": "white",
            "ticks": ""
           },
           "baxis": {
            "gridcolor": "white",
            "linecolor": "white",
            "ticks": ""
           },
           "bgcolor": "#E5ECF6",
           "caxis": {
            "gridcolor": "white",
            "linecolor": "white",
            "ticks": ""
           }
          },
          "title": {
           "x": 0.05
          },
          "xaxis": {
           "automargin": true,
           "gridcolor": "white",
           "linecolor": "white",
           "ticks": "",
           "title": {
            "standoff": 15
           },
           "zerolinecolor": "white",
           "zerolinewidth": 2
          },
          "yaxis": {
           "automargin": true,
           "gridcolor": "white",
           "linecolor": "white",
           "ticks": "",
           "title": {
            "standoff": 15
           },
           "zerolinecolor": "white",
           "zerolinewidth": 2
          }
         }
        },
        "title": {
         "text": "Highest Countries According to SuicideCount"
        },
        "xaxis": {
         "title": {
          "text": "Countries"
         }
        },
        "yaxis": {
         "title": {
          "text": "Terrorist attacks"
         }
        }
       }
      },
      "text/html": [
       "<div>                            <div id=\"57850313-cf91-438a-9e44-814f9523d065\" class=\"plotly-graph-div\" style=\"height:525px; width:100%;\"></div>            <script type=\"text/javascript\">                require([\"plotly\"], function(Plotly) {                    window.PLOTLYENV=window.PLOTLYENV || {};                                    if (document.getElementById(\"57850313-cf91-438a-9e44-814f9523d065\")) {                    Plotly.newPlot(                        \"57850313-cf91-438a-9e44-814f9523d065\",                        [{\"x\":[\"Russian Federation\",\"United States of America\",\"Japan\",\"Germany\",\"Republic of Korea\",\"France\",\"Ukraine\",\"Brazil\",\"Poland\",\"Mexico\"],\"y\":[1256440.0,1164733.0,816888.0,338037.0,326020.0,320387.0,309148.0,269397.0,166416.0,146073.0],\"type\":\"bar\"}],                        {\"font\":{\"color\":\"black\"},\"paper_bgcolor\":\"#F0EEED\",\"plot_bgcolor\":\"#F0EEED\",\"template\":{\"data\":{\"barpolar\":[{\"marker\":{\"line\":{\"color\":\"#E5ECF6\",\"width\":0.5},\"pattern\":{\"fillmode\":\"overlay\",\"size\":10,\"solidity\":0.2}},\"type\":\"barpolar\"}],\"bar\":[{\"error_x\":{\"color\":\"#2a3f5f\"},\"error_y\":{\"color\":\"#2a3f5f\"},\"marker\":{\"line\":{\"color\":\"#E5ECF6\",\"width\":0.5},\"pattern\":{\"fillmode\":\"overlay\",\"size\":10,\"solidity\":0.2}},\"type\":\"bar\"}],\"carpet\":[{\"aaxis\":{\"endlinecolor\":\"#2a3f5f\",\"gridcolor\":\"white\",\"linecolor\":\"white\",\"minorgridcolor\":\"white\",\"startlinecolor\":\"#2a3f5f\"},\"baxis\":{\"endlinecolor\":\"#2a3f5f\",\"gridcolor\":\"white\",\"linecolor\":\"white\",\"minorgridcolor\":\"white\",\"startlinecolor\":\"#2a3f5f\"},\"type\":\"carpet\"}],\"choropleth\":[{\"colorbar\":{\"outlinewidth\":0,\"ticks\":\"\"},\"type\":\"choropleth\"}],\"contourcarpet\":[{\"colorbar\":{\"outlinewidth\":0,\"ticks\":\"\"},\"type\":\"contourcarpet\"}],\"contour\":[{\"colorbar\":{\"outlinewidth\":0,\"ticks\":\"\"},\"colorscale\":[[0.0,\"#0d0887\"],[0.1111111111111111,\"#46039f\"],[0.2222222222222222,\"#7201a8\"],[0.3333333333333333,\"#9c179e\"],[0.4444444444444444,\"#bd3786\"],[0.5555555555555556,\"#d8576b\"],[0.6666666666666666,\"#ed7953\"],[0.7777777777777778,\"#fb9f3a\"],[0.8888888888888888,\"#fdca26\"],[1.0,\"#f0f921\"]],\"type\":\"contour\"}],\"heatmapgl\":[{\"colorbar\":{\"outlinewidth\":0,\"ticks\":\"\"},\"colorscale\":[[0.0,\"#0d0887\"],[0.1111111111111111,\"#46039f\"],[0.2222222222222222,\"#7201a8\"],[0.3333333333333333,\"#9c179e\"],[0.4444444444444444,\"#bd3786\"],[0.5555555555555556,\"#d8576b\"],[0.6666666666666666,\"#ed7953\"],[0.7777777777777778,\"#fb9f3a\"],[0.8888888888888888,\"#fdca26\"],[1.0,\"#f0f921\"]],\"type\":\"heatmapgl\"}],\"heatmap\":[{\"colorbar\":{\"outlinewidth\":0,\"ticks\":\"\"},\"colorscale\":[[0.0,\"#0d0887\"],[0.1111111111111111,\"#46039f\"],[0.2222222222222222,\"#7201a8\"],[0.3333333333333333,\"#9c179e\"],[0.4444444444444444,\"#bd3786\"],[0.5555555555555556,\"#d8576b\"],[0.6666666666666666,\"#ed7953\"],[0.7777777777777778,\"#fb9f3a\"],[0.8888888888888888,\"#fdca26\"],[1.0,\"#f0f921\"]],\"type\":\"heatmap\"}],\"histogram2dcontour\":[{\"colorbar\":{\"outlinewidth\":0,\"ticks\":\"\"},\"colorscale\":[[0.0,\"#0d0887\"],[0.1111111111111111,\"#46039f\"],[0.2222222222222222,\"#7201a8\"],[0.3333333333333333,\"#9c179e\"],[0.4444444444444444,\"#bd3786\"],[0.5555555555555556,\"#d8576b\"],[0.6666666666666666,\"#ed7953\"],[0.7777777777777778,\"#fb9f3a\"],[0.8888888888888888,\"#fdca26\"],[1.0,\"#f0f921\"]],\"type\":\"histogram2dcontour\"}],\"histogram2d\":[{\"colorbar\":{\"outlinewidth\":0,\"ticks\":\"\"},\"colorscale\":[[0.0,\"#0d0887\"],[0.1111111111111111,\"#46039f\"],[0.2222222222222222,\"#7201a8\"],[0.3333333333333333,\"#9c179e\"],[0.4444444444444444,\"#bd3786\"],[0.5555555555555556,\"#d8576b\"],[0.6666666666666666,\"#ed7953\"],[0.7777777777777778,\"#fb9f3a\"],[0.8888888888888888,\"#fdca26\"],[1.0,\"#f0f921\"]],\"type\":\"histogram2d\"}],\"histogram\":[{\"marker\":{\"pattern\":{\"fillmode\":\"overlay\",\"size\":10,\"solidity\":0.2}},\"type\":\"histogram\"}],\"mesh3d\":[{\"colorbar\":{\"outlinewidth\":0,\"ticks\":\"\"},\"type\":\"mesh3d\"}],\"parcoords\":[{\"line\":{\"colorbar\":{\"outlinewidth\":0,\"ticks\":\"\"}},\"type\":\"parcoords\"}],\"pie\":[{\"automargin\":true,\"type\":\"pie\"}],\"scatter3d\":[{\"line\":{\"colorbar\":{\"outlinewidth\":0,\"ticks\":\"\"}},\"marker\":{\"colorbar\":{\"outlinewidth\":0,\"ticks\":\"\"}},\"type\":\"scatter3d\"}],\"scattercarpet\":[{\"marker\":{\"colorbar\":{\"outlinewidth\":0,\"ticks\":\"\"}},\"type\":\"scattercarpet\"}],\"scattergeo\":[{\"marker\":{\"colorbar\":{\"outlinewidth\":0,\"ticks\":\"\"}},\"type\":\"scattergeo\"}],\"scattergl\":[{\"marker\":{\"colorbar\":{\"outlinewidth\":0,\"ticks\":\"\"}},\"type\":\"scattergl\"}],\"scattermapbox\":[{\"marker\":{\"colorbar\":{\"outlinewidth\":0,\"ticks\":\"\"}},\"type\":\"scattermapbox\"}],\"scatterpolargl\":[{\"marker\":{\"colorbar\":{\"outlinewidth\":0,\"ticks\":\"\"}},\"type\":\"scatterpolargl\"}],\"scatterpolar\":[{\"marker\":{\"colorbar\":{\"outlinewidth\":0,\"ticks\":\"\"}},\"type\":\"scatterpolar\"}],\"scatter\":[{\"fillpattern\":{\"fillmode\":\"overlay\",\"size\":10,\"solidity\":0.2},\"type\":\"scatter\"}],\"scatterternary\":[{\"marker\":{\"colorbar\":{\"outlinewidth\":0,\"ticks\":\"\"}},\"type\":\"scatterternary\"}],\"surface\":[{\"colorbar\":{\"outlinewidth\":0,\"ticks\":\"\"},\"colorscale\":[[0.0,\"#0d0887\"],[0.1111111111111111,\"#46039f\"],[0.2222222222222222,\"#7201a8\"],[0.3333333333333333,\"#9c179e\"],[0.4444444444444444,\"#bd3786\"],[0.5555555555555556,\"#d8576b\"],[0.6666666666666666,\"#ed7953\"],[0.7777777777777778,\"#fb9f3a\"],[0.8888888888888888,\"#fdca26\"],[1.0,\"#f0f921\"]],\"type\":\"surface\"}],\"table\":[{\"cells\":{\"fill\":{\"color\":\"#EBF0F8\"},\"line\":{\"color\":\"white\"}},\"header\":{\"fill\":{\"color\":\"#C8D4E3\"},\"line\":{\"color\":\"white\"}},\"type\":\"table\"}]},\"layout\":{\"annotationdefaults\":{\"arrowcolor\":\"#2a3f5f\",\"arrowhead\":0,\"arrowwidth\":1},\"autotypenumbers\":\"strict\",\"coloraxis\":{\"colorbar\":{\"outlinewidth\":0,\"ticks\":\"\"}},\"colorscale\":{\"diverging\":[[0,\"#8e0152\"],[0.1,\"#c51b7d\"],[0.2,\"#de77ae\"],[0.3,\"#f1b6da\"],[0.4,\"#fde0ef\"],[0.5,\"#f7f7f7\"],[0.6,\"#e6f5d0\"],[0.7,\"#b8e186\"],[0.8,\"#7fbc41\"],[0.9,\"#4d9221\"],[1,\"#276419\"]],\"sequential\":[[0.0,\"#0d0887\"],[0.1111111111111111,\"#46039f\"],[0.2222222222222222,\"#7201a8\"],[0.3333333333333333,\"#9c179e\"],[0.4444444444444444,\"#bd3786\"],[0.5555555555555556,\"#d8576b\"],[0.6666666666666666,\"#ed7953\"],[0.7777777777777778,\"#fb9f3a\"],[0.8888888888888888,\"#fdca26\"],[1.0,\"#f0f921\"]],\"sequentialminus\":[[0.0,\"#0d0887\"],[0.1111111111111111,\"#46039f\"],[0.2222222222222222,\"#7201a8\"],[0.3333333333333333,\"#9c179e\"],[0.4444444444444444,\"#bd3786\"],[0.5555555555555556,\"#d8576b\"],[0.6666666666666666,\"#ed7953\"],[0.7777777777777778,\"#fb9f3a\"],[0.8888888888888888,\"#fdca26\"],[1.0,\"#f0f921\"]]},\"colorway\":[\"#636efa\",\"#EF553B\",\"#00cc96\",\"#ab63fa\",\"#FFA15A\",\"#19d3f3\",\"#FF6692\",\"#B6E880\",\"#FF97FF\",\"#FECB52\"],\"font\":{\"color\":\"#2a3f5f\"},\"geo\":{\"bgcolor\":\"white\",\"lakecolor\":\"white\",\"landcolor\":\"#E5ECF6\",\"showlakes\":true,\"showland\":true,\"subunitcolor\":\"white\"},\"hoverlabel\":{\"align\":\"left\"},\"hovermode\":\"closest\",\"mapbox\":{\"style\":\"light\"},\"paper_bgcolor\":\"white\",\"plot_bgcolor\":\"#E5ECF6\",\"polar\":{\"angularaxis\":{\"gridcolor\":\"white\",\"linecolor\":\"white\",\"ticks\":\"\"},\"bgcolor\":\"#E5ECF6\",\"radialaxis\":{\"gridcolor\":\"white\",\"linecolor\":\"white\",\"ticks\":\"\"}},\"scene\":{\"xaxis\":{\"backgroundcolor\":\"#E5ECF6\",\"gridcolor\":\"white\",\"gridwidth\":2,\"linecolor\":\"white\",\"showbackground\":true,\"ticks\":\"\",\"zerolinecolor\":\"white\"},\"yaxis\":{\"backgroundcolor\":\"#E5ECF6\",\"gridcolor\":\"white\",\"gridwidth\":2,\"linecolor\":\"white\",\"showbackground\":true,\"ticks\":\"\",\"zerolinecolor\":\"white\"},\"zaxis\":{\"backgroundcolor\":\"#E5ECF6\",\"gridcolor\":\"white\",\"gridwidth\":2,\"linecolor\":\"white\",\"showbackground\":true,\"ticks\":\"\",\"zerolinecolor\":\"white\"}},\"shapedefaults\":{\"line\":{\"color\":\"#2a3f5f\"}},\"ternary\":{\"aaxis\":{\"gridcolor\":\"white\",\"linecolor\":\"white\",\"ticks\":\"\"},\"baxis\":{\"gridcolor\":\"white\",\"linecolor\":\"white\",\"ticks\":\"\"},\"bgcolor\":\"#E5ECF6\",\"caxis\":{\"gridcolor\":\"white\",\"linecolor\":\"white\",\"ticks\":\"\"}},\"title\":{\"x\":0.05},\"xaxis\":{\"automargin\":true,\"gridcolor\":\"white\",\"linecolor\":\"white\",\"ticks\":\"\",\"title\":{\"standoff\":15},\"zerolinecolor\":\"white\",\"zerolinewidth\":2},\"yaxis\":{\"automargin\":true,\"gridcolor\":\"white\",\"linecolor\":\"white\",\"ticks\":\"\",\"title\":{\"standoff\":15},\"zerolinecolor\":\"white\",\"zerolinewidth\":2}}},\"title\":{\"text\":\"Highest Countries According to SuicideCount\"},\"xaxis\":{\"title\":{\"text\":\"Countries\"}},\"yaxis\":{\"title\":{\"text\":\"Terrorist attacks\"}}},                        {\"responsive\": true}                    ).then(function(){\n",
       "                            \n",
       "var gd = document.getElementById('57850313-cf91-438a-9e44-814f9523d065');\n",
       "var x = new MutationObserver(function (mutations, observer) {{\n",
       "        var display = window.getComputedStyle(gd).display;\n",
       "        if (!display || display === 'none') {{\n",
       "            console.log([gd, 'removed!']);\n",
       "            Plotly.purge(gd);\n",
       "            observer.disconnect();\n",
       "        }}\n",
       "}});\n",
       "\n",
       "// Listen for the removal of the full notebook cells\n",
       "var notebookContainer = gd.closest('#notebook-container');\n",
       "if (notebookContainer) {{\n",
       "    x.observe(notebookContainer, {childList: true});\n",
       "}}\n",
       "\n",
       "// Listen for the clearing of the current output cell\n",
       "var outputEl = gd.closest('.output');\n",
       "if (outputEl) {{\n",
       "    x.observe(outputEl, {childList: true});\n",
       "}}\n",
       "\n",
       "                        })                };                });            </script>        </div>"
      ]
     },
     "metadata": {},
     "output_type": "display_data"
    }
   ],
   "source": [
    "char_bar = df.groupby(['CountryName'])[['SuicideCount']].sum().reset_index()\n",
    "char_bar = char_bar.sort_values(by=(\"SuicideCount\"), ascending=False)\n",
    "\n",
    "top = char_bar.head(10)\n",
    "fig = go.Figure()\n",
    "fig.add_trace(go.Bar(x=top['CountryName'], y=top[\"SuicideCount\"]))\n",
    "\n",
    "fig.update_layout(title='Highest Countries According to SuicideCount',\n",
    "                          xaxis_title='Countries',\n",
    "                          yaxis_title= \"Terrorist attacks\",\n",
    "                          plot_bgcolor='#F0EEED', \n",
    "                          paper_bgcolor='#F0EEED',  \n",
    "                          font=dict(color='black'))\n",
    "\n",
    "pyo.init_notebook_mode(connected=True)\n",
    "pyo.iplot(fig)"
   ]
  },
  {
   "cell_type": "code",
   "execution_count": 19,
   "id": "84b4bfb3",
   "metadata": {
    "execution": {
     "iopub.execute_input": "2024-03-21T22:53:24.118978Z",
     "iopub.status.busy": "2024-03-21T22:53:24.118674Z",
     "iopub.status.idle": "2024-03-21T22:53:24.161424Z",
     "shell.execute_reply": "2024-03-21T22:53:24.160427Z"
    },
    "papermill": {
     "duration": 0.064422,
     "end_time": "2024-03-21T22:53:24.163632",
     "exception": false,
     "start_time": "2024-03-21T22:53:24.099210",
     "status": "completed"
    },
    "tags": []
   },
   "outputs": [
    {
     "data": {
      "text/html": [
       "        <script type=\"text/javascript\">\n",
       "        window.PlotlyConfig = {MathJaxConfig: 'local'};\n",
       "        if (window.MathJax && window.MathJax.Hub && window.MathJax.Hub.Config) {window.MathJax.Hub.Config({SVG: {font: \"STIX-Web\"}});}\n",
       "        if (typeof require !== 'undefined') {\n",
       "        require.undef(\"plotly\");\n",
       "        requirejs.config({\n",
       "            paths: {\n",
       "                'plotly': ['https://cdn.plot.ly/plotly-2.27.0.min']\n",
       "            }\n",
       "        });\n",
       "        require(['plotly'], function(Plotly) {\n",
       "            window._Plotly = Plotly;\n",
       "        });\n",
       "        }\n",
       "        </script>\n",
       "        "
      ]
     },
     "metadata": {},
     "output_type": "display_data"
    },
    {
     "data": {
      "application/vnd.plotly.v1+json": {
       "config": {
        "linkText": "Export to plot.ly",
        "plotlyServerURL": "https://plot.ly",
        "showLink": false
       },
       "data": [
        {
         "type": "bar",
         "x": [
          "Lithuania",
          "Hungary",
          "Russian Federation",
          "Latvia",
          "Republic of Korea",
          "Slovenia",
          "Estonia",
          "Kazakhstan",
          "Croatia",
          "Ukraine"
         ],
         "y": [
          47696.84478667,
          40024.0459681,
          36540.21102695,
          36200.13473974,
          35847.82551109,
          34474.35661603,
          34377.72370685,
          33110.7272577,
          29681.55433822,
          28040.11793748
         ]
        }
       ],
       "layout": {
        "font": {
         "color": "black"
        },
        "paper_bgcolor": "#F0EEED",
        "plot_bgcolor": "#F0EEED",
        "template": {
         "data": {
          "bar": [
           {
            "error_x": {
             "color": "#2a3f5f"
            },
            "error_y": {
             "color": "#2a3f5f"
            },
            "marker": {
             "line": {
              "color": "#E5ECF6",
              "width": 0.5
             },
             "pattern": {
              "fillmode": "overlay",
              "size": 10,
              "solidity": 0.2
             }
            },
            "type": "bar"
           }
          ],
          "barpolar": [
           {
            "marker": {
             "line": {
              "color": "#E5ECF6",
              "width": 0.5
             },
             "pattern": {
              "fillmode": "overlay",
              "size": 10,
              "solidity": 0.2
             }
            },
            "type": "barpolar"
           }
          ],
          "carpet": [
           {
            "aaxis": {
             "endlinecolor": "#2a3f5f",
             "gridcolor": "white",
             "linecolor": "white",
             "minorgridcolor": "white",
             "startlinecolor": "#2a3f5f"
            },
            "baxis": {
             "endlinecolor": "#2a3f5f",
             "gridcolor": "white",
             "linecolor": "white",
             "minorgridcolor": "white",
             "startlinecolor": "#2a3f5f"
            },
            "type": "carpet"
           }
          ],
          "choropleth": [
           {
            "colorbar": {
             "outlinewidth": 0,
             "ticks": ""
            },
            "type": "choropleth"
           }
          ],
          "contour": [
           {
            "colorbar": {
             "outlinewidth": 0,
             "ticks": ""
            },
            "colorscale": [
             [
              0.0,
              "#0d0887"
             ],
             [
              0.1111111111111111,
              "#46039f"
             ],
             [
              0.2222222222222222,
              "#7201a8"
             ],
             [
              0.3333333333333333,
              "#9c179e"
             ],
             [
              0.4444444444444444,
              "#bd3786"
             ],
             [
              0.5555555555555556,
              "#d8576b"
             ],
             [
              0.6666666666666666,
              "#ed7953"
             ],
             [
              0.7777777777777778,
              "#fb9f3a"
             ],
             [
              0.8888888888888888,
              "#fdca26"
             ],
             [
              1.0,
              "#f0f921"
             ]
            ],
            "type": "contour"
           }
          ],
          "contourcarpet": [
           {
            "colorbar": {
             "outlinewidth": 0,
             "ticks": ""
            },
            "type": "contourcarpet"
           }
          ],
          "heatmap": [
           {
            "colorbar": {
             "outlinewidth": 0,
             "ticks": ""
            },
            "colorscale": [
             [
              0.0,
              "#0d0887"
             ],
             [
              0.1111111111111111,
              "#46039f"
             ],
             [
              0.2222222222222222,
              "#7201a8"
             ],
             [
              0.3333333333333333,
              "#9c179e"
             ],
             [
              0.4444444444444444,
              "#bd3786"
             ],
             [
              0.5555555555555556,
              "#d8576b"
             ],
             [
              0.6666666666666666,
              "#ed7953"
             ],
             [
              0.7777777777777778,
              "#fb9f3a"
             ],
             [
              0.8888888888888888,
              "#fdca26"
             ],
             [
              1.0,
              "#f0f921"
             ]
            ],
            "type": "heatmap"
           }
          ],
          "heatmapgl": [
           {
            "colorbar": {
             "outlinewidth": 0,
             "ticks": ""
            },
            "colorscale": [
             [
              0.0,
              "#0d0887"
             ],
             [
              0.1111111111111111,
              "#46039f"
             ],
             [
              0.2222222222222222,
              "#7201a8"
             ],
             [
              0.3333333333333333,
              "#9c179e"
             ],
             [
              0.4444444444444444,
              "#bd3786"
             ],
             [
              0.5555555555555556,
              "#d8576b"
             ],
             [
              0.6666666666666666,
              "#ed7953"
             ],
             [
              0.7777777777777778,
              "#fb9f3a"
             ],
             [
              0.8888888888888888,
              "#fdca26"
             ],
             [
              1.0,
              "#f0f921"
             ]
            ],
            "type": "heatmapgl"
           }
          ],
          "histogram": [
           {
            "marker": {
             "pattern": {
              "fillmode": "overlay",
              "size": 10,
              "solidity": 0.2
             }
            },
            "type": "histogram"
           }
          ],
          "histogram2d": [
           {
            "colorbar": {
             "outlinewidth": 0,
             "ticks": ""
            },
            "colorscale": [
             [
              0.0,
              "#0d0887"
             ],
             [
              0.1111111111111111,
              "#46039f"
             ],
             [
              0.2222222222222222,
              "#7201a8"
             ],
             [
              0.3333333333333333,
              "#9c179e"
             ],
             [
              0.4444444444444444,
              "#bd3786"
             ],
             [
              0.5555555555555556,
              "#d8576b"
             ],
             [
              0.6666666666666666,
              "#ed7953"
             ],
             [
              0.7777777777777778,
              "#fb9f3a"
             ],
             [
              0.8888888888888888,
              "#fdca26"
             ],
             [
              1.0,
              "#f0f921"
             ]
            ],
            "type": "histogram2d"
           }
          ],
          "histogram2dcontour": [
           {
            "colorbar": {
             "outlinewidth": 0,
             "ticks": ""
            },
            "colorscale": [
             [
              0.0,
              "#0d0887"
             ],
             [
              0.1111111111111111,
              "#46039f"
             ],
             [
              0.2222222222222222,
              "#7201a8"
             ],
             [
              0.3333333333333333,
              "#9c179e"
             ],
             [
              0.4444444444444444,
              "#bd3786"
             ],
             [
              0.5555555555555556,
              "#d8576b"
             ],
             [
              0.6666666666666666,
              "#ed7953"
             ],
             [
              0.7777777777777778,
              "#fb9f3a"
             ],
             [
              0.8888888888888888,
              "#fdca26"
             ],
             [
              1.0,
              "#f0f921"
             ]
            ],
            "type": "histogram2dcontour"
           }
          ],
          "mesh3d": [
           {
            "colorbar": {
             "outlinewidth": 0,
             "ticks": ""
            },
            "type": "mesh3d"
           }
          ],
          "parcoords": [
           {
            "line": {
             "colorbar": {
              "outlinewidth": 0,
              "ticks": ""
             }
            },
            "type": "parcoords"
           }
          ],
          "pie": [
           {
            "automargin": true,
            "type": "pie"
           }
          ],
          "scatter": [
           {
            "fillpattern": {
             "fillmode": "overlay",
             "size": 10,
             "solidity": 0.2
            },
            "type": "scatter"
           }
          ],
          "scatter3d": [
           {
            "line": {
             "colorbar": {
              "outlinewidth": 0,
              "ticks": ""
             }
            },
            "marker": {
             "colorbar": {
              "outlinewidth": 0,
              "ticks": ""
             }
            },
            "type": "scatter3d"
           }
          ],
          "scattercarpet": [
           {
            "marker": {
             "colorbar": {
              "outlinewidth": 0,
              "ticks": ""
             }
            },
            "type": "scattercarpet"
           }
          ],
          "scattergeo": [
           {
            "marker": {
             "colorbar": {
              "outlinewidth": 0,
              "ticks": ""
             }
            },
            "type": "scattergeo"
           }
          ],
          "scattergl": [
           {
            "marker": {
             "colorbar": {
              "outlinewidth": 0,
              "ticks": ""
             }
            },
            "type": "scattergl"
           }
          ],
          "scattermapbox": [
           {
            "marker": {
             "colorbar": {
              "outlinewidth": 0,
              "ticks": ""
             }
            },
            "type": "scattermapbox"
           }
          ],
          "scatterpolar": [
           {
            "marker": {
             "colorbar": {
              "outlinewidth": 0,
              "ticks": ""
             }
            },
            "type": "scatterpolar"
           }
          ],
          "scatterpolargl": [
           {
            "marker": {
             "colorbar": {
              "outlinewidth": 0,
              "ticks": ""
             }
            },
            "type": "scatterpolargl"
           }
          ],
          "scatterternary": [
           {
            "marker": {
             "colorbar": {
              "outlinewidth": 0,
              "ticks": ""
             }
            },
            "type": "scatterternary"
           }
          ],
          "surface": [
           {
            "colorbar": {
             "outlinewidth": 0,
             "ticks": ""
            },
            "colorscale": [
             [
              0.0,
              "#0d0887"
             ],
             [
              0.1111111111111111,
              "#46039f"
             ],
             [
              0.2222222222222222,
              "#7201a8"
             ],
             [
              0.3333333333333333,
              "#9c179e"
             ],
             [
              0.4444444444444444,
              "#bd3786"
             ],
             [
              0.5555555555555556,
              "#d8576b"
             ],
             [
              0.6666666666666666,
              "#ed7953"
             ],
             [
              0.7777777777777778,
              "#fb9f3a"
             ],
             [
              0.8888888888888888,
              "#fdca26"
             ],
             [
              1.0,
              "#f0f921"
             ]
            ],
            "type": "surface"
           }
          ],
          "table": [
           {
            "cells": {
             "fill": {
              "color": "#EBF0F8"
             },
             "line": {
              "color": "white"
             }
            },
            "header": {
             "fill": {
              "color": "#C8D4E3"
             },
             "line": {
              "color": "white"
             }
            },
            "type": "table"
           }
          ]
         },
         "layout": {
          "annotationdefaults": {
           "arrowcolor": "#2a3f5f",
           "arrowhead": 0,
           "arrowwidth": 1
          },
          "autotypenumbers": "strict",
          "coloraxis": {
           "colorbar": {
            "outlinewidth": 0,
            "ticks": ""
           }
          },
          "colorscale": {
           "diverging": [
            [
             0,
             "#8e0152"
            ],
            [
             0.1,
             "#c51b7d"
            ],
            [
             0.2,
             "#de77ae"
            ],
            [
             0.3,
             "#f1b6da"
            ],
            [
             0.4,
             "#fde0ef"
            ],
            [
             0.5,
             "#f7f7f7"
            ],
            [
             0.6,
             "#e6f5d0"
            ],
            [
             0.7,
             "#b8e186"
            ],
            [
             0.8,
             "#7fbc41"
            ],
            [
             0.9,
             "#4d9221"
            ],
            [
             1,
             "#276419"
            ]
           ],
           "sequential": [
            [
             0.0,
             "#0d0887"
            ],
            [
             0.1111111111111111,
             "#46039f"
            ],
            [
             0.2222222222222222,
             "#7201a8"
            ],
            [
             0.3333333333333333,
             "#9c179e"
            ],
            [
             0.4444444444444444,
             "#bd3786"
            ],
            [
             0.5555555555555556,
             "#d8576b"
            ],
            [
             0.6666666666666666,
             "#ed7953"
            ],
            [
             0.7777777777777778,
             "#fb9f3a"
            ],
            [
             0.8888888888888888,
             "#fdca26"
            ],
            [
             1.0,
             "#f0f921"
            ]
           ],
           "sequentialminus": [
            [
             0.0,
             "#0d0887"
            ],
            [
             0.1111111111111111,
             "#46039f"
            ],
            [
             0.2222222222222222,
             "#7201a8"
            ],
            [
             0.3333333333333333,
             "#9c179e"
            ],
            [
             0.4444444444444444,
             "#bd3786"
            ],
            [
             0.5555555555555556,
             "#d8576b"
            ],
            [
             0.6666666666666666,
             "#ed7953"
            ],
            [
             0.7777777777777778,
             "#fb9f3a"
            ],
            [
             0.8888888888888888,
             "#fdca26"
            ],
            [
             1.0,
             "#f0f921"
            ]
           ]
          },
          "colorway": [
           "#636efa",
           "#EF553B",
           "#00cc96",
           "#ab63fa",
           "#FFA15A",
           "#19d3f3",
           "#FF6692",
           "#B6E880",
           "#FF97FF",
           "#FECB52"
          ],
          "font": {
           "color": "#2a3f5f"
          },
          "geo": {
           "bgcolor": "white",
           "lakecolor": "white",
           "landcolor": "#E5ECF6",
           "showlakes": true,
           "showland": true,
           "subunitcolor": "white"
          },
          "hoverlabel": {
           "align": "left"
          },
          "hovermode": "closest",
          "mapbox": {
           "style": "light"
          },
          "paper_bgcolor": "white",
          "plot_bgcolor": "#E5ECF6",
          "polar": {
           "angularaxis": {
            "gridcolor": "white",
            "linecolor": "white",
            "ticks": ""
           },
           "bgcolor": "#E5ECF6",
           "radialaxis": {
            "gridcolor": "white",
            "linecolor": "white",
            "ticks": ""
           }
          },
          "scene": {
           "xaxis": {
            "backgroundcolor": "#E5ECF6",
            "gridcolor": "white",
            "gridwidth": 2,
            "linecolor": "white",
            "showbackground": true,
            "ticks": "",
            "zerolinecolor": "white"
           },
           "yaxis": {
            "backgroundcolor": "#E5ECF6",
            "gridcolor": "white",
            "gridwidth": 2,
            "linecolor": "white",
            "showbackground": true,
            "ticks": "",
            "zerolinecolor": "white"
           },
           "zaxis": {
            "backgroundcolor": "#E5ECF6",
            "gridcolor": "white",
            "gridwidth": 2,
            "linecolor": "white",
            "showbackground": true,
            "ticks": "",
            "zerolinecolor": "white"
           }
          },
          "shapedefaults": {
           "line": {
            "color": "#2a3f5f"
           }
          },
          "ternary": {
           "aaxis": {
            "gridcolor": "white",
            "linecolor": "white",
            "ticks": ""
           },
           "baxis": {
            "gridcolor": "white",
            "linecolor": "white",
            "ticks": ""
           },
           "bgcolor": "#E5ECF6",
           "caxis": {
            "gridcolor": "white",
            "linecolor": "white",
            "ticks": ""
           }
          },
          "title": {
           "x": 0.05
          },
          "xaxis": {
           "automargin": true,
           "gridcolor": "white",
           "linecolor": "white",
           "ticks": "",
           "title": {
            "standoff": 15
           },
           "zerolinecolor": "white",
           "zerolinewidth": 2
          },
          "yaxis": {
           "automargin": true,
           "gridcolor": "white",
           "linecolor": "white",
           "ticks": "",
           "title": {
            "standoff": 15
           },
           "zerolinecolor": "white",
           "zerolinewidth": 2
          }
         }
        },
        "title": {
         "text": "Highest Countries According to DeathRatePer100K"
        },
        "xaxis": {
         "title": {
          "text": "Countries"
         }
        },
        "yaxis": {
         "title": {
          "text": "Death Rate Per 100K"
         }
        }
       }
      },
      "text/html": [
       "<div>                            <div id=\"89958be6-b0f0-49c7-8ee2-22fe2d5c5c77\" class=\"plotly-graph-div\" style=\"height:525px; width:100%;\"></div>            <script type=\"text/javascript\">                require([\"plotly\"], function(Plotly) {                    window.PLOTLYENV=window.PLOTLYENV || {};                                    if (document.getElementById(\"89958be6-b0f0-49c7-8ee2-22fe2d5c5c77\")) {                    Plotly.newPlot(                        \"89958be6-b0f0-49c7-8ee2-22fe2d5c5c77\",                        [{\"x\":[\"Lithuania\",\"Hungary\",\"Russian Federation\",\"Latvia\",\"Republic of Korea\",\"Slovenia\",\"Estonia\",\"Kazakhstan\",\"Croatia\",\"Ukraine\"],\"y\":[47696.84478667,40024.0459681,36540.21102695,36200.13473974,35847.82551109,34474.35661603,34377.72370685,33110.7272577,29681.55433822,28040.11793748],\"type\":\"bar\"}],                        {\"font\":{\"color\":\"black\"},\"paper_bgcolor\":\"#F0EEED\",\"plot_bgcolor\":\"#F0EEED\",\"template\":{\"data\":{\"barpolar\":[{\"marker\":{\"line\":{\"color\":\"#E5ECF6\",\"width\":0.5},\"pattern\":{\"fillmode\":\"overlay\",\"size\":10,\"solidity\":0.2}},\"type\":\"barpolar\"}],\"bar\":[{\"error_x\":{\"color\":\"#2a3f5f\"},\"error_y\":{\"color\":\"#2a3f5f\"},\"marker\":{\"line\":{\"color\":\"#E5ECF6\",\"width\":0.5},\"pattern\":{\"fillmode\":\"overlay\",\"size\":10,\"solidity\":0.2}},\"type\":\"bar\"}],\"carpet\":[{\"aaxis\":{\"endlinecolor\":\"#2a3f5f\",\"gridcolor\":\"white\",\"linecolor\":\"white\",\"minorgridcolor\":\"white\",\"startlinecolor\":\"#2a3f5f\"},\"baxis\":{\"endlinecolor\":\"#2a3f5f\",\"gridcolor\":\"white\",\"linecolor\":\"white\",\"minorgridcolor\":\"white\",\"startlinecolor\":\"#2a3f5f\"},\"type\":\"carpet\"}],\"choropleth\":[{\"colorbar\":{\"outlinewidth\":0,\"ticks\":\"\"},\"type\":\"choropleth\"}],\"contourcarpet\":[{\"colorbar\":{\"outlinewidth\":0,\"ticks\":\"\"},\"type\":\"contourcarpet\"}],\"contour\":[{\"colorbar\":{\"outlinewidth\":0,\"ticks\":\"\"},\"colorscale\":[[0.0,\"#0d0887\"],[0.1111111111111111,\"#46039f\"],[0.2222222222222222,\"#7201a8\"],[0.3333333333333333,\"#9c179e\"],[0.4444444444444444,\"#bd3786\"],[0.5555555555555556,\"#d8576b\"],[0.6666666666666666,\"#ed7953\"],[0.7777777777777778,\"#fb9f3a\"],[0.8888888888888888,\"#fdca26\"],[1.0,\"#f0f921\"]],\"type\":\"contour\"}],\"heatmapgl\":[{\"colorbar\":{\"outlinewidth\":0,\"ticks\":\"\"},\"colorscale\":[[0.0,\"#0d0887\"],[0.1111111111111111,\"#46039f\"],[0.2222222222222222,\"#7201a8\"],[0.3333333333333333,\"#9c179e\"],[0.4444444444444444,\"#bd3786\"],[0.5555555555555556,\"#d8576b\"],[0.6666666666666666,\"#ed7953\"],[0.7777777777777778,\"#fb9f3a\"],[0.8888888888888888,\"#fdca26\"],[1.0,\"#f0f921\"]],\"type\":\"heatmapgl\"}],\"heatmap\":[{\"colorbar\":{\"outlinewidth\":0,\"ticks\":\"\"},\"colorscale\":[[0.0,\"#0d0887\"],[0.1111111111111111,\"#46039f\"],[0.2222222222222222,\"#7201a8\"],[0.3333333333333333,\"#9c179e\"],[0.4444444444444444,\"#bd3786\"],[0.5555555555555556,\"#d8576b\"],[0.6666666666666666,\"#ed7953\"],[0.7777777777777778,\"#fb9f3a\"],[0.8888888888888888,\"#fdca26\"],[1.0,\"#f0f921\"]],\"type\":\"heatmap\"}],\"histogram2dcontour\":[{\"colorbar\":{\"outlinewidth\":0,\"ticks\":\"\"},\"colorscale\":[[0.0,\"#0d0887\"],[0.1111111111111111,\"#46039f\"],[0.2222222222222222,\"#7201a8\"],[0.3333333333333333,\"#9c179e\"],[0.4444444444444444,\"#bd3786\"],[0.5555555555555556,\"#d8576b\"],[0.6666666666666666,\"#ed7953\"],[0.7777777777777778,\"#fb9f3a\"],[0.8888888888888888,\"#fdca26\"],[1.0,\"#f0f921\"]],\"type\":\"histogram2dcontour\"}],\"histogram2d\":[{\"colorbar\":{\"outlinewidth\":0,\"ticks\":\"\"},\"colorscale\":[[0.0,\"#0d0887\"],[0.1111111111111111,\"#46039f\"],[0.2222222222222222,\"#7201a8\"],[0.3333333333333333,\"#9c179e\"],[0.4444444444444444,\"#bd3786\"],[0.5555555555555556,\"#d8576b\"],[0.6666666666666666,\"#ed7953\"],[0.7777777777777778,\"#fb9f3a\"],[0.8888888888888888,\"#fdca26\"],[1.0,\"#f0f921\"]],\"type\":\"histogram2d\"}],\"histogram\":[{\"marker\":{\"pattern\":{\"fillmode\":\"overlay\",\"size\":10,\"solidity\":0.2}},\"type\":\"histogram\"}],\"mesh3d\":[{\"colorbar\":{\"outlinewidth\":0,\"ticks\":\"\"},\"type\":\"mesh3d\"}],\"parcoords\":[{\"line\":{\"colorbar\":{\"outlinewidth\":0,\"ticks\":\"\"}},\"type\":\"parcoords\"}],\"pie\":[{\"automargin\":true,\"type\":\"pie\"}],\"scatter3d\":[{\"line\":{\"colorbar\":{\"outlinewidth\":0,\"ticks\":\"\"}},\"marker\":{\"colorbar\":{\"outlinewidth\":0,\"ticks\":\"\"}},\"type\":\"scatter3d\"}],\"scattercarpet\":[{\"marker\":{\"colorbar\":{\"outlinewidth\":0,\"ticks\":\"\"}},\"type\":\"scattercarpet\"}],\"scattergeo\":[{\"marker\":{\"colorbar\":{\"outlinewidth\":0,\"ticks\":\"\"}},\"type\":\"scattergeo\"}],\"scattergl\":[{\"marker\":{\"colorbar\":{\"outlinewidth\":0,\"ticks\":\"\"}},\"type\":\"scattergl\"}],\"scattermapbox\":[{\"marker\":{\"colorbar\":{\"outlinewidth\":0,\"ticks\":\"\"}},\"type\":\"scattermapbox\"}],\"scatterpolargl\":[{\"marker\":{\"colorbar\":{\"outlinewidth\":0,\"ticks\":\"\"}},\"type\":\"scatterpolargl\"}],\"scatterpolar\":[{\"marker\":{\"colorbar\":{\"outlinewidth\":0,\"ticks\":\"\"}},\"type\":\"scatterpolar\"}],\"scatter\":[{\"fillpattern\":{\"fillmode\":\"overlay\",\"size\":10,\"solidity\":0.2},\"type\":\"scatter\"}],\"scatterternary\":[{\"marker\":{\"colorbar\":{\"outlinewidth\":0,\"ticks\":\"\"}},\"type\":\"scatterternary\"}],\"surface\":[{\"colorbar\":{\"outlinewidth\":0,\"ticks\":\"\"},\"colorscale\":[[0.0,\"#0d0887\"],[0.1111111111111111,\"#46039f\"],[0.2222222222222222,\"#7201a8\"],[0.3333333333333333,\"#9c179e\"],[0.4444444444444444,\"#bd3786\"],[0.5555555555555556,\"#d8576b\"],[0.6666666666666666,\"#ed7953\"],[0.7777777777777778,\"#fb9f3a\"],[0.8888888888888888,\"#fdca26\"],[1.0,\"#f0f921\"]],\"type\":\"surface\"}],\"table\":[{\"cells\":{\"fill\":{\"color\":\"#EBF0F8\"},\"line\":{\"color\":\"white\"}},\"header\":{\"fill\":{\"color\":\"#C8D4E3\"},\"line\":{\"color\":\"white\"}},\"type\":\"table\"}]},\"layout\":{\"annotationdefaults\":{\"arrowcolor\":\"#2a3f5f\",\"arrowhead\":0,\"arrowwidth\":1},\"autotypenumbers\":\"strict\",\"coloraxis\":{\"colorbar\":{\"outlinewidth\":0,\"ticks\":\"\"}},\"colorscale\":{\"diverging\":[[0,\"#8e0152\"],[0.1,\"#c51b7d\"],[0.2,\"#de77ae\"],[0.3,\"#f1b6da\"],[0.4,\"#fde0ef\"],[0.5,\"#f7f7f7\"],[0.6,\"#e6f5d0\"],[0.7,\"#b8e186\"],[0.8,\"#7fbc41\"],[0.9,\"#4d9221\"],[1,\"#276419\"]],\"sequential\":[[0.0,\"#0d0887\"],[0.1111111111111111,\"#46039f\"],[0.2222222222222222,\"#7201a8\"],[0.3333333333333333,\"#9c179e\"],[0.4444444444444444,\"#bd3786\"],[0.5555555555555556,\"#d8576b\"],[0.6666666666666666,\"#ed7953\"],[0.7777777777777778,\"#fb9f3a\"],[0.8888888888888888,\"#fdca26\"],[1.0,\"#f0f921\"]],\"sequentialminus\":[[0.0,\"#0d0887\"],[0.1111111111111111,\"#46039f\"],[0.2222222222222222,\"#7201a8\"],[0.3333333333333333,\"#9c179e\"],[0.4444444444444444,\"#bd3786\"],[0.5555555555555556,\"#d8576b\"],[0.6666666666666666,\"#ed7953\"],[0.7777777777777778,\"#fb9f3a\"],[0.8888888888888888,\"#fdca26\"],[1.0,\"#f0f921\"]]},\"colorway\":[\"#636efa\",\"#EF553B\",\"#00cc96\",\"#ab63fa\",\"#FFA15A\",\"#19d3f3\",\"#FF6692\",\"#B6E880\",\"#FF97FF\",\"#FECB52\"],\"font\":{\"color\":\"#2a3f5f\"},\"geo\":{\"bgcolor\":\"white\",\"lakecolor\":\"white\",\"landcolor\":\"#E5ECF6\",\"showlakes\":true,\"showland\":true,\"subunitcolor\":\"white\"},\"hoverlabel\":{\"align\":\"left\"},\"hovermode\":\"closest\",\"mapbox\":{\"style\":\"light\"},\"paper_bgcolor\":\"white\",\"plot_bgcolor\":\"#E5ECF6\",\"polar\":{\"angularaxis\":{\"gridcolor\":\"white\",\"linecolor\":\"white\",\"ticks\":\"\"},\"bgcolor\":\"#E5ECF6\",\"radialaxis\":{\"gridcolor\":\"white\",\"linecolor\":\"white\",\"ticks\":\"\"}},\"scene\":{\"xaxis\":{\"backgroundcolor\":\"#E5ECF6\",\"gridcolor\":\"white\",\"gridwidth\":2,\"linecolor\":\"white\",\"showbackground\":true,\"ticks\":\"\",\"zerolinecolor\":\"white\"},\"yaxis\":{\"backgroundcolor\":\"#E5ECF6\",\"gridcolor\":\"white\",\"gridwidth\":2,\"linecolor\":\"white\",\"showbackground\":true,\"ticks\":\"\",\"zerolinecolor\":\"white\"},\"zaxis\":{\"backgroundcolor\":\"#E5ECF6\",\"gridcolor\":\"white\",\"gridwidth\":2,\"linecolor\":\"white\",\"showbackground\":true,\"ticks\":\"\",\"zerolinecolor\":\"white\"}},\"shapedefaults\":{\"line\":{\"color\":\"#2a3f5f\"}},\"ternary\":{\"aaxis\":{\"gridcolor\":\"white\",\"linecolor\":\"white\",\"ticks\":\"\"},\"baxis\":{\"gridcolor\":\"white\",\"linecolor\":\"white\",\"ticks\":\"\"},\"bgcolor\":\"#E5ECF6\",\"caxis\":{\"gridcolor\":\"white\",\"linecolor\":\"white\",\"ticks\":\"\"}},\"title\":{\"x\":0.05},\"xaxis\":{\"automargin\":true,\"gridcolor\":\"white\",\"linecolor\":\"white\",\"ticks\":\"\",\"title\":{\"standoff\":15},\"zerolinecolor\":\"white\",\"zerolinewidth\":2},\"yaxis\":{\"automargin\":true,\"gridcolor\":\"white\",\"linecolor\":\"white\",\"ticks\":\"\",\"title\":{\"standoff\":15},\"zerolinecolor\":\"white\",\"zerolinewidth\":2}}},\"title\":{\"text\":\"Highest Countries According to DeathRatePer100K\"},\"xaxis\":{\"title\":{\"text\":\"Countries\"}},\"yaxis\":{\"title\":{\"text\":\"Death Rate Per 100K\"}}},                        {\"responsive\": true}                    ).then(function(){\n",
       "                            \n",
       "var gd = document.getElementById('89958be6-b0f0-49c7-8ee2-22fe2d5c5c77');\n",
       "var x = new MutationObserver(function (mutations, observer) {{\n",
       "        var display = window.getComputedStyle(gd).display;\n",
       "        if (!display || display === 'none') {{\n",
       "            console.log([gd, 'removed!']);\n",
       "            Plotly.purge(gd);\n",
       "            observer.disconnect();\n",
       "        }}\n",
       "}});\n",
       "\n",
       "// Listen for the removal of the full notebook cells\n",
       "var notebookContainer = gd.closest('#notebook-container');\n",
       "if (notebookContainer) {{\n",
       "    x.observe(notebookContainer, {childList: true});\n",
       "}}\n",
       "\n",
       "// Listen for the clearing of the current output cell\n",
       "var outputEl = gd.closest('.output');\n",
       "if (outputEl) {{\n",
       "    x.observe(outputEl, {childList: true});\n",
       "}}\n",
       "\n",
       "                        })                };                });            </script>        </div>"
      ]
     },
     "metadata": {},
     "output_type": "display_data"
    }
   ],
   "source": [
    "# Highest Countries According to DeathRatePer100K\n",
    "\n",
    "char_bar = df.groupby(['CountryName'])[['DeathRatePer100K']].sum().reset_index()\n",
    "char_bar = char_bar.sort_values(by=(\"DeathRatePer100K\"), ascending=False)\n",
    "\n",
    "top = char_bar.head(10)\n",
    "fig = go.Figure()\n",
    "fig.add_trace(go.Bar(x=top['CountryName'], y=top[\"DeathRatePer100K\"]))\n",
    "\n",
    "fig.update_layout(title='Highest Countries According to DeathRatePer100K',\n",
    "                          xaxis_title='Countries',\n",
    "                          yaxis_title= \"Death Rate Per 100K\",\n",
    "                          plot_bgcolor='#F0EEED', \n",
    "                          paper_bgcolor='#F0EEED',  \n",
    "                          font=dict(color='black'))\n",
    "\n",
    "pyo.init_notebook_mode(connected=True)\n",
    "pyo.iplot(fig)"
   ]
  }
 ],
 "metadata": {
  "kaggle": {
   "accelerator": "none",
   "dataSources": [
    {
     "datasetId": 4597596,
     "sourceId": 7843883,
     "sourceType": "datasetVersion"
    }
   ],
   "dockerImageVersionId": 30664,
   "isGpuEnabled": false,
   "isInternetEnabled": false,
   "language": "python",
   "sourceType": "notebook"
  },
  "kernelspec": {
   "display_name": "Python 3",
   "language": "python",
   "name": "python3"
  },
  "language_info": {
   "codemirror_mode": {
    "name": "ipython",
    "version": 3
   },
   "file_extension": ".py",
   "mimetype": "text/x-python",
   "name": "python",
   "nbconvert_exporter": "python",
   "pygments_lexer": "ipython3",
   "version": "3.10.13"
  },
  "papermill": {
   "default_parameters": {},
   "duration": 14.277939,
   "end_time": "2024-03-21T22:53:24.703814",
   "environment_variables": {},
   "exception": null,
   "input_path": "__notebook__.ipynb",
   "output_path": "__notebook__.ipynb",
   "parameters": {},
   "start_time": "2024-03-21T22:53:10.425875",
   "version": "2.5.0"
  }
 },
 "nbformat": 4,
 "nbformat_minor": 5
}
